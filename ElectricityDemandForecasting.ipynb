{
  "nbformat": 4,
  "nbformat_minor": 0,
  "metadata": {
    "colab": {
      "provenance": [],
      "toc_visible": true
    },
    "kernelspec": {
      "name": "python3",
      "display_name": "Python 3"
    },
    "language_info": {
      "name": "python"
    }
  },
  "cells": [
    {
      "cell_type": "markdown",
      "source": [
        "## **Problem Statement**"
      ],
      "metadata": {
        "id": "_B63bXfERmtQ"
      }
    },
    {
      "cell_type": "markdown",
      "source": [
        "**Electricity Demand Forecasting Using Machine Learning**\n",
        "\n",
        "To develop a machine learning model to forecast electricity demand based on historical data. The task involves preprocessing the dataset, selecting an appropriate predictive model, training it on relevant features, and evaluating its performance. The goal is to capture seasonal trends and fluctuations to ensure accurate demand prediction."
      ],
      "metadata": {
        "id": "0fQLAkptTbrq"
      }
    },
    {
      "cell_type": "markdown",
      "source": [
        "**Importing Required Libraries**"
      ],
      "metadata": {
        "id": "lY4g216I3gYI"
      }
    },
    {
      "cell_type": "code",
      "source": [
        "!pip install pandas\n",
        "!pip install numpy\n",
        "!pip install matplotlib\n",
        "!pip install seaborn\n",
        "!pip install scikit-learn\n",
        "!pip install lightgbm\n",
        "!pip install xgboost"
      ],
      "metadata": {
        "colab": {
          "base_uri": "https://localhost:8080/"
        },
        "id": "Lo5Hq5yA3RbM",
        "outputId": "8da8e257-cebe-4a57-9195-c10bd4881159"
      },
      "execution_count": null,
      "outputs": [
        {
          "output_type": "stream",
          "name": "stdout",
          "text": [
            "Requirement already satisfied: pandas in /usr/local/lib/python3.11/dist-packages (2.2.2)\n",
            "Requirement already satisfied: numpy>=1.23.2 in /usr/local/lib/python3.11/dist-packages (from pandas) (1.26.4)\n",
            "Requirement already satisfied: python-dateutil>=2.8.2 in /usr/local/lib/python3.11/dist-packages (from pandas) (2.8.2)\n",
            "Requirement already satisfied: pytz>=2020.1 in /usr/local/lib/python3.11/dist-packages (from pandas) (2025.1)\n",
            "Requirement already satisfied: tzdata>=2022.7 in /usr/local/lib/python3.11/dist-packages (from pandas) (2025.1)\n",
            "Requirement already satisfied: six>=1.5 in /usr/local/lib/python3.11/dist-packages (from python-dateutil>=2.8.2->pandas) (1.17.0)\n",
            "Requirement already satisfied: numpy in /usr/local/lib/python3.11/dist-packages (1.26.4)\n",
            "Requirement already satisfied: matplotlib in /usr/local/lib/python3.11/dist-packages (3.10.0)\n",
            "Requirement already satisfied: contourpy>=1.0.1 in /usr/local/lib/python3.11/dist-packages (from matplotlib) (1.3.1)\n",
            "Requirement already satisfied: cycler>=0.10 in /usr/local/lib/python3.11/dist-packages (from matplotlib) (0.12.1)\n",
            "Requirement already satisfied: fonttools>=4.22.0 in /usr/local/lib/python3.11/dist-packages (from matplotlib) (4.56.0)\n",
            "Requirement already satisfied: kiwisolver>=1.3.1 in /usr/local/lib/python3.11/dist-packages (from matplotlib) (1.4.8)\n",
            "Requirement already satisfied: numpy>=1.23 in /usr/local/lib/python3.11/dist-packages (from matplotlib) (1.26.4)\n",
            "Requirement already satisfied: packaging>=20.0 in /usr/local/lib/python3.11/dist-packages (from matplotlib) (24.2)\n",
            "Requirement already satisfied: pillow>=8 in /usr/local/lib/python3.11/dist-packages (from matplotlib) (11.1.0)\n",
            "Requirement already satisfied: pyparsing>=2.3.1 in /usr/local/lib/python3.11/dist-packages (from matplotlib) (3.2.1)\n",
            "Requirement already satisfied: python-dateutil>=2.7 in /usr/local/lib/python3.11/dist-packages (from matplotlib) (2.8.2)\n",
            "Requirement already satisfied: six>=1.5 in /usr/local/lib/python3.11/dist-packages (from python-dateutil>=2.7->matplotlib) (1.17.0)\n",
            "Requirement already satisfied: seaborn in /usr/local/lib/python3.11/dist-packages (0.13.2)\n",
            "Requirement already satisfied: numpy!=1.24.0,>=1.20 in /usr/local/lib/python3.11/dist-packages (from seaborn) (1.26.4)\n",
            "Requirement already satisfied: pandas>=1.2 in /usr/local/lib/python3.11/dist-packages (from seaborn) (2.2.2)\n",
            "Requirement already satisfied: matplotlib!=3.6.1,>=3.4 in /usr/local/lib/python3.11/dist-packages (from seaborn) (3.10.0)\n",
            "Requirement already satisfied: contourpy>=1.0.1 in /usr/local/lib/python3.11/dist-packages (from matplotlib!=3.6.1,>=3.4->seaborn) (1.3.1)\n",
            "Requirement already satisfied: cycler>=0.10 in /usr/local/lib/python3.11/dist-packages (from matplotlib!=3.6.1,>=3.4->seaborn) (0.12.1)\n",
            "Requirement already satisfied: fonttools>=4.22.0 in /usr/local/lib/python3.11/dist-packages (from matplotlib!=3.6.1,>=3.4->seaborn) (4.56.0)\n",
            "Requirement already satisfied: kiwisolver>=1.3.1 in /usr/local/lib/python3.11/dist-packages (from matplotlib!=3.6.1,>=3.4->seaborn) (1.4.8)\n",
            "Requirement already satisfied: packaging>=20.0 in /usr/local/lib/python3.11/dist-packages (from matplotlib!=3.6.1,>=3.4->seaborn) (24.2)\n",
            "Requirement already satisfied: pillow>=8 in /usr/local/lib/python3.11/dist-packages (from matplotlib!=3.6.1,>=3.4->seaborn) (11.1.0)\n",
            "Requirement already satisfied: pyparsing>=2.3.1 in /usr/local/lib/python3.11/dist-packages (from matplotlib!=3.6.1,>=3.4->seaborn) (3.2.1)\n",
            "Requirement already satisfied: python-dateutil>=2.7 in /usr/local/lib/python3.11/dist-packages (from matplotlib!=3.6.1,>=3.4->seaborn) (2.8.2)\n",
            "Requirement already satisfied: pytz>=2020.1 in /usr/local/lib/python3.11/dist-packages (from pandas>=1.2->seaborn) (2025.1)\n",
            "Requirement already satisfied: tzdata>=2022.7 in /usr/local/lib/python3.11/dist-packages (from pandas>=1.2->seaborn) (2025.1)\n",
            "Requirement already satisfied: six>=1.5 in /usr/local/lib/python3.11/dist-packages (from python-dateutil>=2.7->matplotlib!=3.6.1,>=3.4->seaborn) (1.17.0)\n",
            "Requirement already satisfied: scikit-learn in /usr/local/lib/python3.11/dist-packages (1.6.1)\n",
            "Requirement already satisfied: numpy>=1.19.5 in /usr/local/lib/python3.11/dist-packages (from scikit-learn) (1.26.4)\n",
            "Requirement already satisfied: scipy>=1.6.0 in /usr/local/lib/python3.11/dist-packages (from scikit-learn) (1.13.1)\n",
            "Requirement already satisfied: joblib>=1.2.0 in /usr/local/lib/python3.11/dist-packages (from scikit-learn) (1.4.2)\n",
            "Requirement already satisfied: threadpoolctl>=3.1.0 in /usr/local/lib/python3.11/dist-packages (from scikit-learn) (3.5.0)\n",
            "Requirement already satisfied: lightgbm in /usr/local/lib/python3.11/dist-packages (4.5.0)\n",
            "Requirement already satisfied: numpy>=1.17.0 in /usr/local/lib/python3.11/dist-packages (from lightgbm) (1.26.4)\n",
            "Requirement already satisfied: scipy in /usr/local/lib/python3.11/dist-packages (from lightgbm) (1.13.1)\n",
            "Requirement already satisfied: xgboost in /usr/local/lib/python3.11/dist-packages (2.1.4)\n",
            "Requirement already satisfied: numpy in /usr/local/lib/python3.11/dist-packages (from xgboost) (1.26.4)\n",
            "Requirement already satisfied: nvidia-nccl-cu12 in /usr/local/lib/python3.11/dist-packages (from xgboost) (2.21.5)\n",
            "Requirement already satisfied: scipy in /usr/local/lib/python3.11/dist-packages (from xgboost) (1.13.1)\n"
          ]
        }
      ]
    },
    {
      "cell_type": "code",
      "execution_count": null,
      "metadata": {
        "id": "drrsYTkpjmC0"
      },
      "outputs": [],
      "source": [
        "import numpy as np\n",
        "import pandas as pd\n",
        "import matplotlib.pyplot as plt\n",
        "import seaborn as sns\n",
        "import warnings\n",
        "warnings.filterwarnings('ignore')\n",
        "\n",
        "import zipfile\n",
        "import os\n",
        "\n",
        "from sklearn.model_selection import TimeSeriesSplit\n",
        "from sklearn.preprocessing import StandardScaler\n",
        "from sklearn.metrics import mean_squared_error, mean_absolute_error\n",
        "from sklearn.ensemble import RandomForestRegressor, GradientBoostingRegressor\n",
        "from lightgbm import LGBMRegressor\n",
        "from xgboost import XGBRegressor"
      ]
    },
    {
      "cell_type": "code",
      "source": [
        "!pip install jpholiday"
      ],
      "metadata": {
        "colab": {
          "base_uri": "https://localhost:8080/"
        },
        "id": "U_T_XUK3kUvR",
        "outputId": "8820621b-3a70-433a-cab9-0078bbf8d6d3"
      },
      "execution_count": null,
      "outputs": [
        {
          "output_type": "stream",
          "name": "stdout",
          "text": [
            "Collecting jpholiday\n",
            "  Downloading jpholiday-0.1.10-py3-none-any.whl.metadata (6.4 kB)\n",
            "Downloading jpholiday-0.1.10-py3-none-any.whl (9.8 kB)\n",
            "Installing collected packages: jpholiday\n",
            "Successfully installed jpholiday-0.1.10\n"
          ]
        }
      ]
    },
    {
      "cell_type": "code",
      "source": [
        "import jpholiday\n",
        "from datetime import datetime, timedelta"
      ],
      "metadata": {
        "id": "q5fhJrSTnwgp"
      },
      "execution_count": null,
      "outputs": []
    },
    {
      "cell_type": "markdown",
      "source": [
        "## **Data Preparation**"
      ],
      "metadata": {
        "id": "hlVT3JgHeadk"
      }
    },
    {
      "cell_type": "code",
      "source": [
        "demand_df = pd.read_csv('/content/demand.csv')"
      ],
      "metadata": {
        "id": "vqn8jn3-nyjo"
      },
      "execution_count": null,
      "outputs": []
    },
    {
      "cell_type": "code",
      "source": [
        "demand_df.head()"
      ],
      "metadata": {
        "colab": {
          "base_uri": "https://localhost:8080/",
          "height": 206
        },
        "id": "MYSzmjRMoNSd",
        "outputId": "b00f0877-3653-4a31-d827-81f51ed7283e"
      },
      "execution_count": null,
      "outputs": [
        {
          "output_type": "execute_result",
          "data": {
            "text/plain": [
              "              datetime  actual_performance(10  000 kW)\n",
              "0  2021-01-01 00:00:00                   1571      NaN\n",
              "1  2021-01-01 01:00:00                   1492      NaN\n",
              "2  2021-01-01 02:00:00                   1453      NaN\n",
              "3  2021-01-01 03:00:00                   1412      NaN\n",
              "4  2021-01-01 04:00:00                   1358      NaN"
            ],
            "text/html": [
              "\n",
              "  <div id=\"df-d0e08be2-e533-459b-b4f4-13d62d89ce8c\" class=\"colab-df-container\">\n",
              "    <div>\n",
              "<style scoped>\n",
              "    .dataframe tbody tr th:only-of-type {\n",
              "        vertical-align: middle;\n",
              "    }\n",
              "\n",
              "    .dataframe tbody tr th {\n",
              "        vertical-align: top;\n",
              "    }\n",
              "\n",
              "    .dataframe thead th {\n",
              "        text-align: right;\n",
              "    }\n",
              "</style>\n",
              "<table border=\"1\" class=\"dataframe\">\n",
              "  <thead>\n",
              "    <tr style=\"text-align: right;\">\n",
              "      <th></th>\n",
              "      <th>datetime</th>\n",
              "      <th>actual_performance(10</th>\n",
              "      <th>000 kW)</th>\n",
              "    </tr>\n",
              "  </thead>\n",
              "  <tbody>\n",
              "    <tr>\n",
              "      <th>0</th>\n",
              "      <td>2021-01-01 00:00:00</td>\n",
              "      <td>1571</td>\n",
              "      <td>NaN</td>\n",
              "    </tr>\n",
              "    <tr>\n",
              "      <th>1</th>\n",
              "      <td>2021-01-01 01:00:00</td>\n",
              "      <td>1492</td>\n",
              "      <td>NaN</td>\n",
              "    </tr>\n",
              "    <tr>\n",
              "      <th>2</th>\n",
              "      <td>2021-01-01 02:00:00</td>\n",
              "      <td>1453</td>\n",
              "      <td>NaN</td>\n",
              "    </tr>\n",
              "    <tr>\n",
              "      <th>3</th>\n",
              "      <td>2021-01-01 03:00:00</td>\n",
              "      <td>1412</td>\n",
              "      <td>NaN</td>\n",
              "    </tr>\n",
              "    <tr>\n",
              "      <th>4</th>\n",
              "      <td>2021-01-01 04:00:00</td>\n",
              "      <td>1358</td>\n",
              "      <td>NaN</td>\n",
              "    </tr>\n",
              "  </tbody>\n",
              "</table>\n",
              "</div>\n",
              "    <div class=\"colab-df-buttons\">\n",
              "\n",
              "  <div class=\"colab-df-container\">\n",
              "    <button class=\"colab-df-convert\" onclick=\"convertToInteractive('df-d0e08be2-e533-459b-b4f4-13d62d89ce8c')\"\n",
              "            title=\"Convert this dataframe to an interactive table.\"\n",
              "            style=\"display:none;\">\n",
              "\n",
              "  <svg xmlns=\"http://www.w3.org/2000/svg\" height=\"24px\" viewBox=\"0 -960 960 960\">\n",
              "    <path d=\"M120-120v-720h720v720H120Zm60-500h600v-160H180v160Zm220 220h160v-160H400v160Zm0 220h160v-160H400v160ZM180-400h160v-160H180v160Zm440 0h160v-160H620v160ZM180-180h160v-160H180v160Zm440 0h160v-160H620v160Z\"/>\n",
              "  </svg>\n",
              "    </button>\n",
              "\n",
              "  <style>\n",
              "    .colab-df-container {\n",
              "      display:flex;\n",
              "      gap: 12px;\n",
              "    }\n",
              "\n",
              "    .colab-df-convert {\n",
              "      background-color: #E8F0FE;\n",
              "      border: none;\n",
              "      border-radius: 50%;\n",
              "      cursor: pointer;\n",
              "      display: none;\n",
              "      fill: #1967D2;\n",
              "      height: 32px;\n",
              "      padding: 0 0 0 0;\n",
              "      width: 32px;\n",
              "    }\n",
              "\n",
              "    .colab-df-convert:hover {\n",
              "      background-color: #E2EBFA;\n",
              "      box-shadow: 0px 1px 2px rgba(60, 64, 67, 0.3), 0px 1px 3px 1px rgba(60, 64, 67, 0.15);\n",
              "      fill: #174EA6;\n",
              "    }\n",
              "\n",
              "    .colab-df-buttons div {\n",
              "      margin-bottom: 4px;\n",
              "    }\n",
              "\n",
              "    [theme=dark] .colab-df-convert {\n",
              "      background-color: #3B4455;\n",
              "      fill: #D2E3FC;\n",
              "    }\n",
              "\n",
              "    [theme=dark] .colab-df-convert:hover {\n",
              "      background-color: #434B5C;\n",
              "      box-shadow: 0px 1px 3px 1px rgba(0, 0, 0, 0.15);\n",
              "      filter: drop-shadow(0px 1px 2px rgba(0, 0, 0, 0.3));\n",
              "      fill: #FFFFFF;\n",
              "    }\n",
              "  </style>\n",
              "\n",
              "    <script>\n",
              "      const buttonEl =\n",
              "        document.querySelector('#df-d0e08be2-e533-459b-b4f4-13d62d89ce8c button.colab-df-convert');\n",
              "      buttonEl.style.display =\n",
              "        google.colab.kernel.accessAllowed ? 'block' : 'none';\n",
              "\n",
              "      async function convertToInteractive(key) {\n",
              "        const element = document.querySelector('#df-d0e08be2-e533-459b-b4f4-13d62d89ce8c');\n",
              "        const dataTable =\n",
              "          await google.colab.kernel.invokeFunction('convertToInteractive',\n",
              "                                                    [key], {});\n",
              "        if (!dataTable) return;\n",
              "\n",
              "        const docLinkHtml = 'Like what you see? Visit the ' +\n",
              "          '<a target=\"_blank\" href=https://colab.research.google.com/notebooks/data_table.ipynb>data table notebook</a>'\n",
              "          + ' to learn more about interactive tables.';\n",
              "        element.innerHTML = '';\n",
              "        dataTable['output_type'] = 'display_data';\n",
              "        await google.colab.output.renderOutput(dataTable, element);\n",
              "        const docLink = document.createElement('div');\n",
              "        docLink.innerHTML = docLinkHtml;\n",
              "        element.appendChild(docLink);\n",
              "      }\n",
              "    </script>\n",
              "  </div>\n",
              "\n",
              "\n",
              "<div id=\"df-2849859e-1710-4488-a9de-2a0ff883577e\">\n",
              "  <button class=\"colab-df-quickchart\" onclick=\"quickchart('df-2849859e-1710-4488-a9de-2a0ff883577e')\"\n",
              "            title=\"Suggest charts\"\n",
              "            style=\"display:none;\">\n",
              "\n",
              "<svg xmlns=\"http://www.w3.org/2000/svg\" height=\"24px\"viewBox=\"0 0 24 24\"\n",
              "     width=\"24px\">\n",
              "    <g>\n",
              "        <path d=\"M19 3H5c-1.1 0-2 .9-2 2v14c0 1.1.9 2 2 2h14c1.1 0 2-.9 2-2V5c0-1.1-.9-2-2-2zM9 17H7v-7h2v7zm4 0h-2V7h2v10zm4 0h-2v-4h2v4z\"/>\n",
              "    </g>\n",
              "</svg>\n",
              "  </button>\n",
              "\n",
              "<style>\n",
              "  .colab-df-quickchart {\n",
              "      --bg-color: #E8F0FE;\n",
              "      --fill-color: #1967D2;\n",
              "      --hover-bg-color: #E2EBFA;\n",
              "      --hover-fill-color: #174EA6;\n",
              "      --disabled-fill-color: #AAA;\n",
              "      --disabled-bg-color: #DDD;\n",
              "  }\n",
              "\n",
              "  [theme=dark] .colab-df-quickchart {\n",
              "      --bg-color: #3B4455;\n",
              "      --fill-color: #D2E3FC;\n",
              "      --hover-bg-color: #434B5C;\n",
              "      --hover-fill-color: #FFFFFF;\n",
              "      --disabled-bg-color: #3B4455;\n",
              "      --disabled-fill-color: #666;\n",
              "  }\n",
              "\n",
              "  .colab-df-quickchart {\n",
              "    background-color: var(--bg-color);\n",
              "    border: none;\n",
              "    border-radius: 50%;\n",
              "    cursor: pointer;\n",
              "    display: none;\n",
              "    fill: var(--fill-color);\n",
              "    height: 32px;\n",
              "    padding: 0;\n",
              "    width: 32px;\n",
              "  }\n",
              "\n",
              "  .colab-df-quickchart:hover {\n",
              "    background-color: var(--hover-bg-color);\n",
              "    box-shadow: 0 1px 2px rgba(60, 64, 67, 0.3), 0 1px 3px 1px rgba(60, 64, 67, 0.15);\n",
              "    fill: var(--button-hover-fill-color);\n",
              "  }\n",
              "\n",
              "  .colab-df-quickchart-complete:disabled,\n",
              "  .colab-df-quickchart-complete:disabled:hover {\n",
              "    background-color: var(--disabled-bg-color);\n",
              "    fill: var(--disabled-fill-color);\n",
              "    box-shadow: none;\n",
              "  }\n",
              "\n",
              "  .colab-df-spinner {\n",
              "    border: 2px solid var(--fill-color);\n",
              "    border-color: transparent;\n",
              "    border-bottom-color: var(--fill-color);\n",
              "    animation:\n",
              "      spin 1s steps(1) infinite;\n",
              "  }\n",
              "\n",
              "  @keyframes spin {\n",
              "    0% {\n",
              "      border-color: transparent;\n",
              "      border-bottom-color: var(--fill-color);\n",
              "      border-left-color: var(--fill-color);\n",
              "    }\n",
              "    20% {\n",
              "      border-color: transparent;\n",
              "      border-left-color: var(--fill-color);\n",
              "      border-top-color: var(--fill-color);\n",
              "    }\n",
              "    30% {\n",
              "      border-color: transparent;\n",
              "      border-left-color: var(--fill-color);\n",
              "      border-top-color: var(--fill-color);\n",
              "      border-right-color: var(--fill-color);\n",
              "    }\n",
              "    40% {\n",
              "      border-color: transparent;\n",
              "      border-right-color: var(--fill-color);\n",
              "      border-top-color: var(--fill-color);\n",
              "    }\n",
              "    60% {\n",
              "      border-color: transparent;\n",
              "      border-right-color: var(--fill-color);\n",
              "    }\n",
              "    80% {\n",
              "      border-color: transparent;\n",
              "      border-right-color: var(--fill-color);\n",
              "      border-bottom-color: var(--fill-color);\n",
              "    }\n",
              "    90% {\n",
              "      border-color: transparent;\n",
              "      border-bottom-color: var(--fill-color);\n",
              "    }\n",
              "  }\n",
              "</style>\n",
              "\n",
              "  <script>\n",
              "    async function quickchart(key) {\n",
              "      const quickchartButtonEl =\n",
              "        document.querySelector('#' + key + ' button');\n",
              "      quickchartButtonEl.disabled = true;  // To prevent multiple clicks.\n",
              "      quickchartButtonEl.classList.add('colab-df-spinner');\n",
              "      try {\n",
              "        const charts = await google.colab.kernel.invokeFunction(\n",
              "            'suggestCharts', [key], {});\n",
              "      } catch (error) {\n",
              "        console.error('Error during call to suggestCharts:', error);\n",
              "      }\n",
              "      quickchartButtonEl.classList.remove('colab-df-spinner');\n",
              "      quickchartButtonEl.classList.add('colab-df-quickchart-complete');\n",
              "    }\n",
              "    (() => {\n",
              "      let quickchartButtonEl =\n",
              "        document.querySelector('#df-2849859e-1710-4488-a9de-2a0ff883577e button');\n",
              "      quickchartButtonEl.style.display =\n",
              "        google.colab.kernel.accessAllowed ? 'block' : 'none';\n",
              "    })();\n",
              "  </script>\n",
              "</div>\n",
              "\n",
              "    </div>\n",
              "  </div>\n"
            ],
            "application/vnd.google.colaboratory.intrinsic+json": {
              "type": "dataframe",
              "variable_name": "demand_df",
              "summary": "{\n  \"name\": \"demand_df\",\n  \"rows\": 26280,\n  \"fields\": [\n    {\n      \"column\": \"datetime\",\n      \"properties\": {\n        \"dtype\": \"object\",\n        \"num_unique_values\": 26280,\n        \"samples\": [\n          \"2023-04-16 01:00:00\",\n          \"2021-09-20 01:00:00\",\n          \"2021-11-06 12:00:00\"\n        ],\n        \"semantic_type\": \"\",\n        \"description\": \"\"\n      }\n    },\n    {\n      \"column\": \"actual_performance(10\",\n      \"properties\": {\n        \"dtype\": \"number\",\n        \"std\": 328,\n        \"min\": 955,\n        \"max\": 2827,\n        \"num_unique_values\": 1640,\n        \"samples\": [\n          1270,\n          2467,\n          1231\n        ],\n        \"semantic_type\": \"\",\n        \"description\": \"\"\n      }\n    },\n    {\n      \"column\": \"000 kW)\",\n      \"properties\": {\n        \"dtype\": \"number\",\n        \"std\": null,\n        \"min\": null,\n        \"max\": null,\n        \"num_unique_values\": 0,\n        \"samples\": [],\n        \"semantic_type\": \"\",\n        \"description\": \"\"\n      }\n    }\n  ]\n}"
            }
          },
          "metadata": {},
          "execution_count": 10
        }
      ]
    },
    {
      "cell_type": "code",
      "source": [
        "demand_df['datetime'] = pd.to_datetime(demand_df['datetime'])"
      ],
      "metadata": {
        "id": "nWyutdGFoPrR"
      },
      "execution_count": null,
      "outputs": []
    },
    {
      "cell_type": "code",
      "source": [
        "demand_df = demand_df.drop('000 kW)', axis=1)"
      ],
      "metadata": {
        "id": "rj7Ub6iloX2l"
      },
      "execution_count": null,
      "outputs": []
    },
    {
      "cell_type": "code",
      "source": [
        "demand_df.isnull().sum()"
      ],
      "metadata": {
        "colab": {
          "base_uri": "https://localhost:8080/",
          "height": 147
        },
        "id": "WaNfXZvwMubY",
        "outputId": "51cb28e5-4ddb-406b-9836-7ca5f05c2d26"
      },
      "execution_count": null,
      "outputs": [
        {
          "output_type": "execute_result",
          "data": {
            "text/plain": [
              "datetime                 0\n",
              "actual_performance(10    0\n",
              "dtype: int64"
            ],
            "text/html": [
              "<div>\n",
              "<style scoped>\n",
              "    .dataframe tbody tr th:only-of-type {\n",
              "        vertical-align: middle;\n",
              "    }\n",
              "\n",
              "    .dataframe tbody tr th {\n",
              "        vertical-align: top;\n",
              "    }\n",
              "\n",
              "    .dataframe thead th {\n",
              "        text-align: right;\n",
              "    }\n",
              "</style>\n",
              "<table border=\"1\" class=\"dataframe\">\n",
              "  <thead>\n",
              "    <tr style=\"text-align: right;\">\n",
              "      <th></th>\n",
              "      <th>0</th>\n",
              "    </tr>\n",
              "  </thead>\n",
              "  <tbody>\n",
              "    <tr>\n",
              "      <th>datetime</th>\n",
              "      <td>0</td>\n",
              "    </tr>\n",
              "    <tr>\n",
              "      <th>actual_performance(10</th>\n",
              "      <td>0</td>\n",
              "    </tr>\n",
              "  </tbody>\n",
              "</table>\n",
              "</div><br><label><b>dtype:</b> int64</label>"
            ]
          },
          "metadata": {},
          "execution_count": 13
        }
      ]
    },
    {
      "cell_type": "markdown",
      "source": [
        "**Verifing seasonality and stationary of data**"
      ],
      "metadata": {
        "id": "nDvfWiVEetAW"
      }
    },
    {
      "cell_type": "code",
      "source": [
        "demand_df['actual_performance(10'].plot(figsize = (15, 5))"
      ],
      "metadata": {
        "colab": {
          "base_uri": "https://localhost:8080/",
          "height": 462
        },
        "id": "mQ094C4yMuX-",
        "outputId": "f630dc03-30ee-4340-a448-589c40bd260b"
      },
      "execution_count": null,
      "outputs": [
        {
          "output_type": "execute_result",
          "data": {
            "text/plain": [
              "<Axes: >"
            ]
          },
          "metadata": {},
          "execution_count": 14
        },
        {
          "output_type": "display_data",
          "data": {
            "text/plain": [
              "<Figure size 1500x500 with 1 Axes>"
            ],
            "image/png": "[encoded data removed]"
          },
          "metadata": {}
        }
      ]
    },
    {
      "cell_type": "markdown",
      "source": [
        "The data shown in the graph exhibits seasonality due to the following reasons:\n",
        "\n",
        "1. **Repeating Patterns** – The peaks and troughs appear at regular intervals, indicating a cyclical nature in demand.\n",
        "2. **Periodic Fluctuations** – The data shows similar variations over time, which suggests a recurring pattern, a key characteristic of seasonal data.\n",
        "3. **Consistency Over Time** – The highs and lows occur consistently, meaning the trends repeat at predictable time intervals.\n",
        "4. **Sharp Spikes & Drops** – These variations often align with seasonal trends, where demand fluctuates in response to external factors like time of day, week, or year."
      ],
      "metadata": {
        "id": "1DVBkpiANJDh"
      }
    },
    {
      "cell_type": "markdown",
      "source": [
        "**Testing for stationary**\n",
        "\n",
        "**stationary :** When data is stationary, its statistical properties like mean, variance, and autocorrelation remain constant over time. In simpler terms, the data doesn’t have trends, seasonality, or changing patterns."
      ],
      "metadata": {
        "id": "SSp5lDRi5oeg"
      }
    },
    {
      "cell_type": "code",
      "source": [
        "from statsmodels.tsa.stattools import adfuller"
      ],
      "metadata": {
        "id": "BObuVugDMuWL"
      },
      "execution_count": null,
      "outputs": []
    },
    {
      "cell_type": "code",
      "source": [
        "def adfuller_test(data):\n",
        "  result = adfuller(data)\n",
        "  labels = ['ADF Test Statistic', 'p-value', '#Lags Used', 'Number of Observations Used']\n",
        "  for value, label in zip(result, labels):\n",
        "    print(label + ' : ' + str(value))\n",
        "  if result[1]<=0.05:\n",
        "    print('Strong evidence against the null hypothesis(Ho), reject the null hypothesis. Data has no unit root and is stationary')\n",
        "  else:\n",
        "    print('Weak evidence against null hypothesis, time series has a unit root, indicating it is non-stationary')"
      ],
      "metadata": {
        "id": "_OiPsnS2MuT_"
      },
      "execution_count": null,
      "outputs": []
    },
    {
      "cell_type": "code",
      "source": [
        "adfuller_test(demand_df['actual_performance(10'])"
      ],
      "metadata": {
        "colab": {
          "base_uri": "https://localhost:8080/"
        },
        "id": "czVa6uAmMuQX",
        "outputId": "35316d83-4c5d-4cc7-9fd8-7e132eac3168"
      },
      "execution_count": null,
      "outputs": [
        {
          "output_type": "stream",
          "name": "stdout",
          "text": [
            "ADF Test Statistic : -10.25903791543325\n",
            "p-value : 4.284776107480493e-18\n",
            "#Lags Used : 49\n",
            "Number of Observations Used : 26230\n",
            "Strong evidence against the null hypothesis(Ho), reject the null hypothesis. Data has no unit root and is stationary\n"
          ]
        }
      ]
    },
    {
      "cell_type": "code",
      "source": [
        "weather_files = {\n",
        "        'hikone': '/content/hikone.csv',\n",
        "        'kobe': '/content/kobe.csv',\n",
        "        'kyoto': '/content/kyoto.csv',\n",
        "        'osaka': '/content/osaka.csv',\n",
        "        'shionomisaki': '/content/shionomisaki.csv',\n",
        "        'toyooka': '/content/toyooka.csv',\n",
        "        'wakayama': '/content/wakayama.csv'\n",
        "    }"
      ],
      "metadata": {
        "id": "nzyvpWpAoeUO"
      },
      "execution_count": null,
      "outputs": []
    },
    {
      "cell_type": "code",
      "source": [
        "# Merging all weather datasets columns\n",
        "weather_dfs = {}\n",
        "for city, file in weather_files.items():\n",
        "        df = pd.read_csv(file)\n",
        "        df['datetime'] = pd.to_datetime(df['datetime'])\n",
        "\n",
        "        # Rename columns to include city name\n",
        "        weather_cols = df.columns.difference(['datetime'])\n",
        "        df.columns = ['datetime'] + [f'{city}_{col}' for col in weather_cols]\n",
        "\n",
        "        weather_dfs[city] = df"
      ],
      "metadata": {
        "id": "aAhgyHWYqEtZ"
      },
      "execution_count": null,
      "outputs": []
    },
    {
      "cell_type": "code",
      "source": [
        "# Merge all datasets\n",
        "final_df = demand_df\n",
        "for df in weather_dfs.values():\n",
        "    final_df = pd.merge(final_df, df, on='datetime', how='left')"
      ],
      "metadata": {
        "id": "y2scQmnOq425"
      },
      "execution_count": null,
      "outputs": []
    },
    {
      "cell_type": "code",
      "source": [
        "final_df.head()"
      ],
      "metadata": {
        "colab": {
          "base_uri": "https://localhost:8080/",
          "height": 429
        },
        "id": "KST67ySbrddj",
        "outputId": "3d53b693-ff78-4627-9a5f-ad4efbc8fd26"
      },
      "execution_count": null,
      "outputs": [
        {
          "output_type": "execute_result",
          "data": {
            "text/plain": [
              "             datetime  actual_performance(10  hikone_dew_point_temperature  \\\n",
              "0 2021-01-01 00:00:00                   1571                           0.0   \n",
              "1 2021-01-01 01:00:00                   1492                           0.0   \n",
              "2 2021-01-01 02:00:00                   1453                           0.0   \n",
              "3 2021-01-01 03:00:00                   1412                           0.0   \n",
              "4 2021-01-01 04:00:00                   1358                           0.0   \n",
              "\n",
              "   hikone_humidity  hikone_precipitation  hikone_snowfall  hikone_temperature  \\\n",
              "0              0.3                  -4.9             68.0                 3.8   \n",
              "1              0.3                  -4.7             69.0                 3.7   \n",
              "2              0.0                  -4.8             70.0                 3.5   \n",
              "3             -0.8                  -4.7             75.0                 2.3   \n",
              "4              0.2                  -4.0             73.0                 2.5   \n",
              "\n",
              "  hikone_wind_direction  hikone_wind_speed  kobe_dew_point_temperature  ...  \\\n",
              "0                     南                0.0                         0.0  ...   \n",
              "1                   南南西                0.0                         0.0  ...   \n",
              "2                   南南西                0.0                         0.0  ...   \n",
              "3                   南南東                0.0                         0.0  ...   \n",
              "4                   南南西                0.0                         0.0  ...   \n",
              "\n",
              "   toyooka_temperature  toyooka_wind_direction  toyooka_wind_speed  \\\n",
              "0                  2.1                     南南東                 1.0   \n",
              "1                  2.0                       南                 2.0   \n",
              "2                  3.5                      南西                 0.0   \n",
              "3                  2.2                     南南東                 2.0   \n",
              "4                  2.8                       南                 0.0   \n",
              "\n",
              "   wakayama_dew_point_temperature wakayama_humidity  wakayama_precipitation  \\\n",
              "0                             0.0               2.3                    -1.0   \n",
              "1                             0.0               3.1                    -2.2   \n",
              "2                             0.0               3.9                    -4.1   \n",
              "3                             0.0               3.9                    -3.4   \n",
              "4                             0.0               3.9                    -3.1   \n",
              "\n",
              "   wakayama_snowfall  wakayama_temperature  wakayama_wind_direction  \\\n",
              "0               79.0                   2.6                      西南西   \n",
              "1               68.0                   1.5                        北   \n",
              "2               56.0                   6.2                      西北西   \n",
              "3               59.0                   5.6                      西北西   \n",
              "4               60.0                   5.8                      西北西   \n",
              "\n",
              "   wakayama_wind_speed  \n",
              "0                  0.0  \n",
              "1                  0.0  \n",
              "2                  0.0  \n",
              "3                  0.0  \n",
              "4                  0.0  \n",
              "\n",
              "[5 rows x 51 columns]"
            ],
            "text/html": [
              "\n",
              "  <div id=\"df-4276fe73-4e0d-4638-a09a-9ef82d78d011\" class=\"colab-df-container\">\n",
              "    <div>\n",
              "<style scoped>\n",
              "    .dataframe tbody tr th:only-of-type {\n",
              "        vertical-align: middle;\n",
              "    }\n",
              "\n",
              "    .dataframe tbody tr th {\n",
              "        vertical-align: top;\n",
              "    }\n",
              "\n",
              "    .dataframe thead th {\n",
              "        text-align: right;\n",
              "    }\n",
              "</style>\n",
              "<table border=\"1\" class=\"dataframe\">\n",
              "  <thead>\n",
              "    <tr style=\"text-align: right;\">\n",
              "      <th></th>\n",
              "      <th>datetime</th>\n",
              "      <th>actual_performance(10</th>\n",
              "      <th>hikone_dew_point_temperature</th>\n",
              "      <th>hikone_humidity</th>\n",
              "      <th>hikone_precipitation</th>\n",
              "      <th>hikone_snowfall</th>\n",
              "      <th>hikone_temperature</th>\n",
              "      <th>hikone_wind_direction</th>\n",
              "      <th>hikone_wind_speed</th>\n",
              "      <th>kobe_dew_point_temperature</th>\n",
              "      <th>...</th>\n",
              "      <th>toyooka_temperature</th>\n",
              "      <th>toyooka_wind_direction</th>\n",
              "      <th>toyooka_wind_speed</th>\n",
              "      <th>wakayama_dew_point_temperature</th>\n",
              "      <th>wakayama_humidity</th>\n",
              "      <th>wakayama_precipitation</th>\n",
              "      <th>wakayama_snowfall</th>\n",
              "      <th>wakayama_temperature</th>\n",
              "      <th>wakayama_wind_direction</th>\n",
              "      <th>wakayama_wind_speed</th>\n",
              "    </tr>\n",
              "  </thead>\n",
              "  <tbody>\n",
              "    <tr>\n",
              "      <th>0</th>\n",
              "      <td>2021-01-01 00:00:00</td>\n",
              "      <td>1571</td>\n",
              "      <td>0.0</td>\n",
              "      <td>0.3</td>\n",
              "      <td>-4.9</td>\n",
              "      <td>68.0</td>\n",
              "      <td>3.8</td>\n",
              "      <td>南</td>\n",
              "      <td>0.0</td>\n",
              "      <td>0.0</td>\n",
              "      <td>...</td>\n",
              "      <td>2.1</td>\n",
              "      <td>南南東</td>\n",
              "      <td>1.0</td>\n",
              "      <td>0.0</td>\n",
              "      <td>2.3</td>\n",
              "      <td>-1.0</td>\n",
              "      <td>79.0</td>\n",
              "      <td>2.6</td>\n",
              "      <td>西南西</td>\n",
              "      <td>0.0</td>\n",
              "    </tr>\n",
              "    <tr>\n",
              "      <th>1</th>\n",
              "      <td>2021-01-01 01:00:00</td>\n",
              "      <td>1492</td>\n",
              "      <td>0.0</td>\n",
              "      <td>0.3</td>\n",
              "      <td>-4.7</td>\n",
              "      <td>69.0</td>\n",
              "      <td>3.7</td>\n",
              "      <td>南南西</td>\n",
              "      <td>0.0</td>\n",
              "      <td>0.0</td>\n",
              "      <td>...</td>\n",
              "      <td>2.0</td>\n",
              "      <td>南</td>\n",
              "      <td>2.0</td>\n",
              "      <td>0.0</td>\n",
              "      <td>3.1</td>\n",
              "      <td>-2.2</td>\n",
              "      <td>68.0</td>\n",
              "      <td>1.5</td>\n",
              "      <td>北</td>\n",
              "      <td>0.0</td>\n",
              "    </tr>\n",
              "    <tr>\n",
              "      <th>2</th>\n",
              "      <td>2021-01-01 02:00:00</td>\n",
              "      <td>1453</td>\n",
              "      <td>0.0</td>\n",
              "      <td>0.0</td>\n",
              "      <td>-4.8</td>\n",
              "      <td>70.0</td>\n",
              "      <td>3.5</td>\n",
              "      <td>南南西</td>\n",
              "      <td>0.0</td>\n",
              "      <td>0.0</td>\n",
              "      <td>...</td>\n",
              "      <td>3.5</td>\n",
              "      <td>南西</td>\n",
              "      <td>0.0</td>\n",
              "      <td>0.0</td>\n",
              "      <td>3.9</td>\n",
              "      <td>-4.1</td>\n",
              "      <td>56.0</td>\n",
              "      <td>6.2</td>\n",
              "      <td>西北西</td>\n",
              "      <td>0.0</td>\n",
              "    </tr>\n",
              "    <tr>\n",
              "      <th>3</th>\n",
              "      <td>2021-01-01 03:00:00</td>\n",
              "      <td>1412</td>\n",
              "      <td>0.0</td>\n",
              "      <td>-0.8</td>\n",
              "      <td>-4.7</td>\n",
              "      <td>75.0</td>\n",
              "      <td>2.3</td>\n",
              "      <td>南南東</td>\n",
              "      <td>0.0</td>\n",
              "      <td>0.0</td>\n",
              "      <td>...</td>\n",
              "      <td>2.2</td>\n",
              "      <td>南南東</td>\n",
              "      <td>2.0</td>\n",
              "      <td>0.0</td>\n",
              "      <td>3.9</td>\n",
              "      <td>-3.4</td>\n",
              "      <td>59.0</td>\n",
              "      <td>5.6</td>\n",
              "      <td>西北西</td>\n",
              "      <td>0.0</td>\n",
              "    </tr>\n",
              "    <tr>\n",
              "      <th>4</th>\n",
              "      <td>2021-01-01 04:00:00</td>\n",
              "      <td>1358</td>\n",
              "      <td>0.0</td>\n",
              "      <td>0.2</td>\n",
              "      <td>-4.0</td>\n",
              "      <td>73.0</td>\n",
              "      <td>2.5</td>\n",
              "      <td>南南西</td>\n",
              "      <td>0.0</td>\n",
              "      <td>0.0</td>\n",
              "      <td>...</td>\n",
              "      <td>2.8</td>\n",
              "      <td>南</td>\n",
              "      <td>0.0</td>\n",
              "      <td>0.0</td>\n",
              "      <td>3.9</td>\n",
              "      <td>-3.1</td>\n",
              "      <td>60.0</td>\n",
              "      <td>5.8</td>\n",
              "      <td>西北西</td>\n",
              "      <td>0.0</td>\n",
              "    </tr>\n",
              "  </tbody>\n",
              "</table>\n",
              "<p>5 rows × 51 columns</p>\n",
              "</div>\n",
              "    <div class=\"colab-df-buttons\">\n",
              "\n",
              "  <div class=\"colab-df-container\">\n",
              "    <button class=\"colab-df-convert\" onclick=\"convertToInteractive('df-4276fe73-4e0d-4638-a09a-9ef82d78d011')\"\n",
              "            title=\"Convert this dataframe to an interactive table.\"\n",
              "            style=\"display:none;\">\n",
              "\n",
              "  <svg xmlns=\"http://www.w3.org/2000/svg\" height=\"24px\" viewBox=\"0 -960 960 960\">\n",
              "    <path d=\"M120-120v-720h720v720H120Zm60-500h600v-160H180v160Zm220 220h160v-160H400v160Zm0 220h160v-160H400v160ZM180-400h160v-160H180v160Zm440 0h160v-160H620v160ZM180-180h160v-160H180v160Zm440 0h160v-160H620v160Z\"/>\n",
              "  </svg>\n",
              "    </button>\n",
              "\n",
              "  <style>\n",
              "    .colab-df-container {\n",
              "      display:flex;\n",
              "      gap: 12px;\n",
              "    }\n",
              "\n",
              "    .colab-df-convert {\n",
              "      background-color: #E8F0FE;\n",
              "      border: none;\n",
              "      border-radius: 50%;\n",
              "      cursor: pointer;\n",
              "      display: none;\n",
              "      fill: #1967D2;\n",
              "      height: 32px;\n",
              "      padding: 0 0 0 0;\n",
              "      width: 32px;\n",
              "    }\n",
              "\n",
              "    .colab-df-convert:hover {\n",
              "      background-color: #E2EBFA;\n",
              "      box-shadow: 0px 1px 2px rgba(60, 64, 67, 0.3), 0px 1px 3px 1px rgba(60, 64, 67, 0.15);\n",
              "      fill: #174EA6;\n",
              "    }\n",
              "\n",
              "    .colab-df-buttons div {\n",
              "      margin-bottom: 4px;\n",
              "    }\n",
              "\n",
              "    [theme=dark] .colab-df-convert {\n",
              "      background-color: #3B4455;\n",
              "      fill: #D2E3FC;\n",
              "    }\n",
              "\n",
              "    [theme=dark] .colab-df-convert:hover {\n",
              "      background-color: #434B5C;\n",
              "      box-shadow: 0px 1px 3px 1px rgba(0, 0, 0, 0.15);\n",
              "      filter: drop-shadow(0px 1px 2px rgba(0, 0, 0, 0.3));\n",
              "      fill: #FFFFFF;\n",
              "    }\n",
              "  </style>\n",
              "\n",
              "    <script>\n",
              "      const buttonEl =\n",
              "        document.querySelector('#df-4276fe73-4e0d-4638-a09a-9ef82d78d011 button.colab-df-convert');\n",
              "      buttonEl.style.display =\n",
              "        google.colab.kernel.accessAllowed ? 'block' : 'none';\n",
              "\n",
              "      async function convertToInteractive(key) {\n",
              "        const element = document.querySelector('#df-4276fe73-4e0d-4638-a09a-9ef82d78d011');\n",
              "        const dataTable =\n",
              "          await google.colab.kernel.invokeFunction('convertToInteractive',\n",
              "                                                    [key], {});\n",
              "        if (!dataTable) return;\n",
              "\n",
              "        const docLinkHtml = 'Like what you see? Visit the ' +\n",
              "          '<a target=\"_blank\" href=https://colab.research.google.com/notebooks/data_table.ipynb>data table notebook</a>'\n",
              "          + ' to learn more about interactive tables.';\n",
              "        element.innerHTML = '';\n",
              "        dataTable['output_type'] = 'display_data';\n",
              "        await google.colab.output.renderOutput(dataTable, element);\n",
              "        const docLink = document.createElement('div');\n",
              "        docLink.innerHTML = docLinkHtml;\n",
              "        element.appendChild(docLink);\n",
              "      }\n",
              "    </script>\n",
              "  </div>\n",
              "\n",
              "\n",
              "<div id=\"df-6aa574a0-f76b-417b-9964-05bfca31fe7f\">\n",
              "  <button class=\"colab-df-quickchart\" onclick=\"quickchart('df-6aa574a0-f76b-417b-9964-05bfca31fe7f')\"\n",
              "            title=\"Suggest charts\"\n",
              "            style=\"display:none;\">\n",
              "\n",
              "<svg xmlns=\"http://www.w3.org/2000/svg\" height=\"24px\"viewBox=\"0 0 24 24\"\n",
              "     width=\"24px\">\n",
              "    <g>\n",
              "        <path d=\"M19 3H5c-1.1 0-2 .9-2 2v14c0 1.1.9 2 2 2h14c1.1 0 2-.9 2-2V5c0-1.1-.9-2-2-2zM9 17H7v-7h2v7zm4 0h-2V7h2v10zm4 0h-2v-4h2v4z\"/>\n",
              "    </g>\n",
              "</svg>\n",
              "  </button>\n",
              "\n",
              "<style>\n",
              "  .colab-df-quickchart {\n",
              "      --bg-color: #E8F0FE;\n",
              "      --fill-color: #1967D2;\n",
              "      --hover-bg-color: #E2EBFA;\n",
              "      --hover-fill-color: #174EA6;\n",
              "      --disabled-fill-color: #AAA;\n",
              "      --disabled-bg-color: #DDD;\n",
              "  }\n",
              "\n",
              "  [theme=dark] .colab-df-quickchart {\n",
              "      --bg-color: #3B4455;\n",
              "      --fill-color: #D2E3FC;\n",
              "      --hover-bg-color: #434B5C;\n",
              "      --hover-fill-color: #FFFFFF;\n",
              "      --disabled-bg-color: #3B4455;\n",
              "      --disabled-fill-color: #666;\n",
              "  }\n",
              "\n",
              "  .colab-df-quickchart {\n",
              "    background-color: var(--bg-color);\n",
              "    border: none;\n",
              "    border-radius: 50%;\n",
              "    cursor: pointer;\n",
              "    display: none;\n",
              "    fill: var(--fill-color);\n",
              "    height: 32px;\n",
              "    padding: 0;\n",
              "    width: 32px;\n",
              "  }\n",
              "\n",
              "  .colab-df-quickchart:hover {\n",
              "    background-color: var(--hover-bg-color);\n",
              "    box-shadow: 0 1px 2px rgba(60, 64, 67, 0.3), 0 1px 3px 1px rgba(60, 64, 67, 0.15);\n",
              "    fill: var(--button-hover-fill-color);\n",
              "  }\n",
              "\n",
              "  .colab-df-quickchart-complete:disabled,\n",
              "  .colab-df-quickchart-complete:disabled:hover {\n",
              "    background-color: var(--disabled-bg-color);\n",
              "    fill: var(--disabled-fill-color);\n",
              "    box-shadow: none;\n",
              "  }\n",
              "\n",
              "  .colab-df-spinner {\n",
              "    border: 2px solid var(--fill-color);\n",
              "    border-color: transparent;\n",
              "    border-bottom-color: var(--fill-color);\n",
              "    animation:\n",
              "      spin 1s steps(1) infinite;\n",
              "  }\n",
              "\n",
              "  @keyframes spin {\n",
              "    0% {\n",
              "      border-color: transparent;\n",
              "      border-bottom-color: var(--fill-color);\n",
              "      border-left-color: var(--fill-color);\n",
              "    }\n",
              "    20% {\n",
              "      border-color: transparent;\n",
              "      border-left-color: var(--fill-color);\n",
              "      border-top-color: var(--fill-color);\n",
              "    }\n",
              "    30% {\n",
              "      border-color: transparent;\n",
              "      border-left-color: var(--fill-color);\n",
              "      border-top-color: var(--fill-color);\n",
              "      border-right-color: var(--fill-color);\n",
              "    }\n",
              "    40% {\n",
              "      border-color: transparent;\n",
              "      border-right-color: var(--fill-color);\n",
              "      border-top-color: var(--fill-color);\n",
              "    }\n",
              "    60% {\n",
              "      border-color: transparent;\n",
              "      border-right-color: var(--fill-color);\n",
              "    }\n",
              "    80% {\n",
              "      border-color: transparent;\n",
              "      border-right-color: var(--fill-color);\n",
              "      border-bottom-color: var(--fill-color);\n",
              "    }\n",
              "    90% {\n",
              "      border-color: transparent;\n",
              "      border-bottom-color: var(--fill-color);\n",
              "    }\n",
              "  }\n",
              "</style>\n",
              "\n",
              "  <script>\n",
              "    async function quickchart(key) {\n",
              "      const quickchartButtonEl =\n",
              "        document.querySelector('#' + key + ' button');\n",
              "      quickchartButtonEl.disabled = true;  // To prevent multiple clicks.\n",
              "      quickchartButtonEl.classList.add('colab-df-spinner');\n",
              "      try {\n",
              "        const charts = await google.colab.kernel.invokeFunction(\n",
              "            'suggestCharts', [key], {});\n",
              "      } catch (error) {\n",
              "        console.error('Error during call to suggestCharts:', error);\n",
              "      }\n",
              "      quickchartButtonEl.classList.remove('colab-df-spinner');\n",
              "      quickchartButtonEl.classList.add('colab-df-quickchart-complete');\n",
              "    }\n",
              "    (() => {\n",
              "      let quickchartButtonEl =\n",
              "        document.querySelector('#df-6aa574a0-f76b-417b-9964-05bfca31fe7f button');\n",
              "      quickchartButtonEl.style.display =\n",
              "        google.colab.kernel.accessAllowed ? 'block' : 'none';\n",
              "    })();\n",
              "  </script>\n",
              "</div>\n",
              "\n",
              "    </div>\n",
              "  </div>\n"
            ],
            "application/vnd.google.colaboratory.intrinsic+json": {
              "type": "dataframe",
              "variable_name": "final_df"
            }
          },
          "metadata": {},
          "execution_count": 27
        }
      ]
    },
    {
      "cell_type": "code",
      "source": [
        "final_df.shape"
      ],
      "metadata": {
        "colab": {
          "base_uri": "https://localhost:8080/"
        },
        "id": "PgLAgRDQrjXW",
        "outputId": "1ceaafa8-27f4-4ffc-8126-db6589066c9e"
      },
      "execution_count": null,
      "outputs": [
        {
          "output_type": "execute_result",
          "data": {
            "text/plain": [
              "(26280, 51)"
            ]
          },
          "metadata": {},
          "execution_count": 28
        }
      ]
    },
    {
      "cell_type": "markdown",
      "source": [
        "## **Feature Engineering**"
      ],
      "metadata": {
        "id": "MqgP9FRxfN2p"
      }
    },
    {
      "cell_type": "markdown",
      "source": [
        "**Creating time features**"
      ],
      "metadata": {
        "id": "EAf0kD5w5k81"
      }
    },
    {
      "cell_type": "markdown",
      "source": [
        "We extract these temporal features because electricity consumption patterns are highly dependent\n",
        "on time-related factors. Machine learning models cannot directly interpret datetime objects,\n",
        "so we break them down into numerical components:\n",
        "\n",
        "1. year, month: Capture seasonal patterns and long-term trends\n",
        "2. day, hour: Essential for daily consumption cycles (peak vs. off-peak hours)\n",
        "3. dayofweek: Different days have different usage patterns (e.g., Monday vs. Thursday)\n",
        "4. isweekend: Binary flag since weekend consumption differs significantly from weekdays\n",
        "\n",
        "These features enable the model to learn:\n",
        "- Daily patterns (working hours vs. night hours)\n",
        "- Weekly patterns (weekday vs. weekend differences)\n",
        "- Seasonal variations (monthly and yearly trends)\n",
        "\n",
        "This temporal feature engineering is crucial for accurate electricity demand forecasting."
      ],
      "metadata": {
        "id": "lz8WaCjQ6RCk"
      }
    },
    {
      "cell_type": "code",
      "source": [
        "# Creating time-based features from datetime column\n",
        "final_df = final_df.copy()\n",
        "final_df['year'] = final_df['datetime'].dt.year\n",
        "final_df['month'] = final_df['datetime'].dt.month\n",
        "final_df['day'] = final_df['datetime'].dt.day\n",
        "final_df['hour'] = final_df['datetime'].dt.hour\n",
        "final_df['dayofweek'] = final_df['datetime'].dt.dayofweek\n",
        "final_df['isweekend'] = final_df['dayofweek'].apply(lambda x: 1 if x >= 5 else 0)"
      ],
      "metadata": {
        "id": "emd5p01Jr0bL"
      },
      "execution_count": null,
      "outputs": []
    },
    {
      "cell_type": "code",
      "source": [
        "final_df.shape"
      ],
      "metadata": {
        "colab": {
          "base_uri": "https://localhost:8080/"
        },
        "id": "SMGqEXX1ufwW",
        "outputId": "42762a40-ab3c-4092-8d06-938a1b2fbf56"
      },
      "execution_count": null,
      "outputs": [
        {
          "output_type": "execute_result",
          "data": {
            "text/plain": [
              "(26280, 57)"
            ]
          },
          "metadata": {},
          "execution_count": 31
        }
      ]
    },
    {
      "cell_type": "markdown",
      "source": [
        "**Adding holiday indicators**"
      ],
      "metadata": {
        "id": "js-WSDqv5eDB"
      }
    },
    {
      "cell_type": "markdown",
      "source": [
        "We implement holiday indicators because electricity consumption patterns on holidays\n",
        "significantly differ from regular days for several reasons:\n",
        "\n",
        "1. Business Impact:\n",
        "   - Many businesses and offices are closed\n",
        "   - Industrial electricity consumption typically decreases\n",
        "   - Commercial areas may have different operating hours\n",
        "\n",
        "2. Residential Impact:\n",
        "   - More people stay at home during holidays\n",
        "   - Residential electricity usage patterns shift\n",
        "   - Different appliance usage patterns compared to working days\n",
        "\n",
        "3. Model Benefits:\n",
        "   - Helps model distinguish between regular days and holidays\n",
        "   - Improves prediction accuracy during holiday periods\n",
        "   - Captures special consumption patterns specific to Japanese holidays\n",
        "\n",
        "The jpholiday library specifically accounts for Japanese national holidays, which is crucial\n",
        "for accurate demand forecasting in the Japanese electricity market. The binary flag\n",
        "(1 for holiday, 0 for non-holiday) allows the model to learn these distinct patterns."
      ],
      "metadata": {
        "id": "dDlU_Llf7ASd"
      }
    },
    {
      "cell_type": "code",
      "source": [
        "# Add Japanese holiday indicators using jpholiday\n",
        "final_df['isholiday'] = final_df['datetime'].apply(lambda x: 1 if jpholiday.is_holiday(x) else 0)"
      ],
      "metadata": {
        "id": "zvn0__xbuyuQ"
      },
      "execution_count": null,
      "outputs": []
    },
    {
      "cell_type": "markdown",
      "source": [
        "**Creating lag features for demand data**"
      ],
      "metadata": {
        "id": "oAuwTJVl5Z6E"
      }
    },
    {
      "cell_type": "markdown",
      "source": [
        "Lag features are crucial for time series forecasting as they capture historical patterns\n",
        "in electricity demand. We create three types of lag features:\n",
        "\n",
        "1. Hourly Lags (1-6 hours):\n",
        "   - Captures very recent consumption patterns\n",
        "   - Helps model short-term trends and immediate changes\n",
        "   - Essential for tracking hour-to-hour variations\n",
        "   Example: demand_lag_1h shows consumption from 1 hour ago\n",
        "\n",
        "2. Daily Lags (1-7 days):\n",
        "   - Captures daily patterns and trends\n",
        "   - Helps model learn daily cycles in consumption\n",
        "   - Important for understanding day-to-day variations\n",
        "   Example: demand_lag_1d shows consumption from 24 hours ago\n",
        "\n",
        "3. Weekly Lags (1-2 weeks):\n",
        "   - Captures weekly patterns and longer-term trends\n",
        "   - Helps identify weekly cycles in consumption\n",
        "   - Useful for understanding week-over-week changes\n",
        "   Example: demand_lag_1w shows consumption from 7 days ago\n",
        "\n",
        "The shift() function is used to create these lags:\n",
        "- shift(1) moves data by 1 hour\n",
        "- shift(24) moves data by 1 day (24 hours)\n",
        "- shift(24*7) moves data by 1 week (168 hours)\n",
        "\n",
        "These lag features are fundamental for the model to learn temporal dependencies and\n",
        "patterns in electricity consumption at different time scales."
      ],
      "metadata": {
        "id": "pERv-Z-_7ncI"
      }
    },
    {
      "cell_type": "code",
      "source": [
        "demand_col = 'actual_performance(10'\n",
        "\n",
        "# Hourly lags (1-6 hours)\n",
        "for i in range(1, 7):\n",
        "    final_df[f'demand_lag_{i}h'] = final_df[demand_col].shift(i)\n",
        "\n",
        "# Daily lags (1-7 days)\n",
        "for i in range(1, 8):\n",
        "    final_df[f'demand_lag_{i}d'] = final_df[demand_col].shift(i * 24)\n",
        "\n",
        "# Weekly lags (1-2 weeks)\n",
        "for i in range(1, 3):\n",
        "    final_df[f'demand_lag_{i}w'] = final_df[demand_col].shift(i * 24 * 7)"
      ],
      "metadata": {
        "id": "sATX70f0vwl4"
      },
      "execution_count": null,
      "outputs": []
    },
    {
      "cell_type": "markdown",
      "source": [
        "The average electricity demand over the last 24 hours. This helps in reducing noise and highlighting the short-term trend.\n",
        "\n",
        "The average demand over the last 7 days (24 * 7 = 168 hours). This is useful for capturing weekly patterns and long-term trends."
      ],
      "metadata": {
        "id": "93mBDpSg78eN"
      }
    },
    {
      "cell_type": "code",
      "source": [
        "# Moving averages\n",
        "final_df['demand_ma_24h'] = final_df[demand_col].rolling(window=24).mean()  # It calculates the average electricity demand over the last 24 hours. This helps in reducing noise and highlighting the short-term trend.\n",
        "final_df['demand_ma_7d'] = final_df[demand_col].rolling(window=24*7).mean()  # It calculates the average demand over the last 7 days (24 * 7 = 168 hours). This is useful for capturing weekly patterns and long-term trends."
      ],
      "metadata": {
        "id": "8cWAnFOcyQOi"
      },
      "execution_count": null,
      "outputs": []
    },
    {
      "cell_type": "markdown",
      "source": [
        "These features capture the electricity demand at the exact same hour from previous days.\n",
        "They are particularly valuable because electricity consumption often follows strong\n",
        "daily and weekly patterns:\n",
        "\n",
        "1. demand_same_hour_1d (24-hour shift):\n",
        "   - Captures demand from exactly the same hour yesterday\n",
        "   - Example: For 2 PM today, it shows what demand was at 2 PM yesterday\n",
        "   - Highly predictive because daily routines tend to be similar\n",
        "   - Helps capture regular daily patterns (e.g., peak hours)\n",
        "\n",
        "2. demand_same_hour_1w (168-hour shift):\n",
        "   - Captures demand from the same hour and day last week\n",
        "   - Example: For 2 PM Monday, it shows what demand was at 2 PM last Monday\n",
        "   - Valuable for capturing weekly patterns\n",
        "   - Accounts for day-of-week effects on consumption"
      ],
      "metadata": {
        "id": "Gs7RtuNa8UTk"
      }
    },
    {
      "cell_type": "code",
      "source": [
        "# Same hour previous days\n",
        "final_df['demand_same_hour_1d'] = final_df[demand_col].shift(24)\n",
        "final_df['demand_same_hour_1w'] = final_df[demand_col].shift(24*7)"
      ],
      "metadata": {
        "id": "x4b4sGQX4smw"
      },
      "execution_count": null,
      "outputs": []
    },
    {
      "cell_type": "markdown",
      "source": [
        "**Preparing Weather Features**"
      ],
      "metadata": {
        "id": "zI-v8O-i68d4"
      }
    },
    {
      "cell_type": "markdown",
      "source": [
        "Here we are just adding the weather data to our final_df. Adding every column of weather data of different cities which were present in the given datasets."
      ],
      "metadata": {
        "id": "hg7stmKG_D4_"
      }
    },
    {
      "cell_type": "code",
      "source": [
        "# List of weather variables\n",
        "weather_vars = ['temperature', 'humidity', 'wind_speed', 'precipitation']\n",
        "cities = ['hikone', 'kobe', 'kyoto', 'osaka', 'shionomisaki', 'toyooka', 'wakayama']\n",
        "\n",
        "# Calculate mean weather metrics across all cities\n",
        "for var in weather_vars:\n",
        "    city_cols = [f'{city}_{var}' for city in cities]\n",
        "    final_df[f'mean_{var}'] = final_df[city_cols].mean(axis=1)\n",
        "    final_df[f'max_{var}'] = final_df[city_cols].max(axis=1)\n",
        "    final_df[f'min_{var}'] = final_df[city_cols].min(axis=1)"
      ],
      "metadata": {
        "id": "IfArWzEU5NaO"
      },
      "execution_count": null,
      "outputs": []
    },
    {
      "cell_type": "code",
      "source": [
        "# Sort by datetime\n",
        "fina_df = final_df.sort_values('datetime').reset_index(drop=True)"
      ],
      "metadata": {
        "id": "WrHzEf8H7MLR"
      },
      "execution_count": null,
      "outputs": []
    },
    {
      "cell_type": "code",
      "source": [
        "final_df.shape"
      ],
      "metadata": {
        "colab": {
          "base_uri": "https://localhost:8080/"
        },
        "id": "PJ6rjNLm7fn9",
        "outputId": "4800aebb-e06d-45d6-c235-904cf691a2f6"
      },
      "execution_count": null,
      "outputs": [
        {
          "output_type": "execute_result",
          "data": {
            "text/plain": [
              "(26280, 89)"
            ]
          },
          "metadata": {},
          "execution_count": 38
        }
      ]
    },
    {
      "cell_type": "markdown",
      "source": [
        "This is how our final dataset looks like after adding all the required columns."
      ],
      "metadata": {
        "id": "OLwjcxz__gND"
      }
    },
    {
      "cell_type": "code",
      "source": [
        "final_df.head()"
      ],
      "metadata": {
        "colab": {
          "base_uri": "https://localhost:8080/",
          "height": 429
        },
        "id": "HXetXQ21RcMl",
        "outputId": "4fb7649f-4d38-4617-95db-9c5c8cdb9a55"
      },
      "execution_count": null,
      "outputs": [
        {
          "output_type": "execute_result",
          "data": {
            "text/plain": [
              "             datetime  actual_performance(10  hikone_dew_point_temperature  \\\n",
              "0 2021-01-01 00:00:00                   1571                           0.0   \n",
              "1 2021-01-01 01:00:00                   1492                           0.0   \n",
              "2 2021-01-01 02:00:00                   1453                           0.0   \n",
              "3 2021-01-01 03:00:00                   1412                           0.0   \n",
              "4 2021-01-01 04:00:00                   1358                           0.0   \n",
              "\n",
              "   hikone_humidity  hikone_precipitation  hikone_snowfall  hikone_temperature  \\\n",
              "0              0.3                  -4.9             68.0                 3.8   \n",
              "1              0.3                  -4.7             69.0                 3.7   \n",
              "2              0.0                  -4.8             70.0                 3.5   \n",
              "3             -0.8                  -4.7             75.0                 2.3   \n",
              "4              0.2                  -4.0             73.0                 2.5   \n",
              "\n",
              "  hikone_wind_direction  hikone_wind_speed  kobe_dew_point_temperature  ...  \\\n",
              "0                     南                0.0                         0.0  ...   \n",
              "1                   南南西                0.0                         0.0  ...   \n",
              "2                   南南西                0.0                         0.0  ...   \n",
              "3                   南南東                0.0                         0.0  ...   \n",
              "4                   南南西                0.0                         0.0  ...   \n",
              "\n",
              "   min_temperature  mean_humidity  max_humidity  min_humidity mean_wind_speed  \\\n",
              "0              2.1       1.700000           3.7          -0.3        0.142857   \n",
              "1              1.5       1.900000           4.1          -0.2        0.285714   \n",
              "2              0.9       1.928571           4.0           0.0        0.000000   \n",
              "3              1.8       1.628571           4.1          -0.8        0.285714   \n",
              "4              2.3       1.871429           4.6           0.0        0.000000   \n",
              "\n",
              "   max_wind_speed  min_wind_speed  mean_precipitation  max_precipitation  \\\n",
              "0             1.0             0.0           -3.328571               -0.4   \n",
              "1             2.0             0.0           -3.271429               -0.3   \n",
              "2             0.0             0.0           -3.557143                0.0   \n",
              "3             2.0             0.0           -3.400000                0.1   \n",
              "4             0.0             0.0           -2.971429                0.2   \n",
              "\n",
              "   min_precipitation  \n",
              "0               -5.0  \n",
              "1               -4.9  \n",
              "2               -5.0  \n",
              "3               -4.7  \n",
              "4               -4.6  \n",
              "\n",
              "[5 rows x 89 columns]"
            ],
            "text/html": [
              "\n",
              "  <div id=\"df-321ed561-f2a3-4b82-a511-3fafc29df998\" class=\"colab-df-container\">\n",
              "    <div>\n",
              "<style scoped>\n",
              "    .dataframe tbody tr th:only-of-type {\n",
              "        vertical-align: middle;\n",
              "    }\n",
              "\n",
              "    .dataframe tbody tr th {\n",
              "        vertical-align: top;\n",
              "    }\n",
              "\n",
              "    .dataframe thead th {\n",
              "        text-align: right;\n",
              "    }\n",
              "</style>\n",
              "<table border=\"1\" class=\"dataframe\">\n",
              "  <thead>\n",
              "    <tr style=\"text-align: right;\">\n",
              "      <th></th>\n",
              "      <th>datetime</th>\n",
              "      <th>actual_performance(10</th>\n",
              "      <th>hikone_dew_point_temperature</th>\n",
              "      <th>hikone_humidity</th>\n",
              "      <th>hikone_precipitation</th>\n",
              "      <th>hikone_snowfall</th>\n",
              "      <th>hikone_temperature</th>\n",
              "      <th>hikone_wind_direction</th>\n",
              "      <th>hikone_wind_speed</th>\n",
              "      <th>kobe_dew_point_temperature</th>\n",
              "      <th>...</th>\n",
              "      <th>min_temperature</th>\n",
              "      <th>mean_humidity</th>\n",
              "      <th>max_humidity</th>\n",
              "      <th>min_humidity</th>\n",
              "      <th>mean_wind_speed</th>\n",
              "      <th>max_wind_speed</th>\n",
              "      <th>min_wind_speed</th>\n",
              "      <th>mean_precipitation</th>\n",
              "      <th>max_precipitation</th>\n",
              "      <th>min_precipitation</th>\n",
              "    </tr>\n",
              "  </thead>\n",
              "  <tbody>\n",
              "    <tr>\n",
              "      <th>0</th>\n",
              "      <td>2021-01-01 00:00:00</td>\n",
              "      <td>1571</td>\n",
              "      <td>0.0</td>\n",
              "      <td>0.3</td>\n",
              "      <td>-4.9</td>\n",
              "      <td>68.0</td>\n",
              "      <td>3.8</td>\n",
              "      <td>南</td>\n",
              "      <td>0.0</td>\n",
              "      <td>0.0</td>\n",
              "      <td>...</td>\n",
              "      <td>2.1</td>\n",
              "      <td>1.700000</td>\n",
              "      <td>3.7</td>\n",
              "      <td>-0.3</td>\n",
              "      <td>0.142857</td>\n",
              "      <td>1.0</td>\n",
              "      <td>0.0</td>\n",
              "      <td>-3.328571</td>\n",
              "      <td>-0.4</td>\n",
              "      <td>-5.0</td>\n",
              "    </tr>\n",
              "    <tr>\n",
              "      <th>1</th>\n",
              "      <td>2021-01-01 01:00:00</td>\n",
              "      <td>1492</td>\n",
              "      <td>0.0</td>\n",
              "      <td>0.3</td>\n",
              "      <td>-4.7</td>\n",
              "      <td>69.0</td>\n",
              "      <td>3.7</td>\n",
              "      <td>南南西</td>\n",
              "      <td>0.0</td>\n",
              "      <td>0.0</td>\n",
              "      <td>...</td>\n",
              "      <td>1.5</td>\n",
              "      <td>1.900000</td>\n",
              "      <td>4.1</td>\n",
              "      <td>-0.2</td>\n",
              "      <td>0.285714</td>\n",
              "      <td>2.0</td>\n",
              "      <td>0.0</td>\n",
              "      <td>-3.271429</td>\n",
              "      <td>-0.3</td>\n",
              "      <td>-4.9</td>\n",
              "    </tr>\n",
              "    <tr>\n",
              "      <th>2</th>\n",
              "      <td>2021-01-01 02:00:00</td>\n",
              "      <td>1453</td>\n",
              "      <td>0.0</td>\n",
              "      <td>0.0</td>\n",
              "      <td>-4.8</td>\n",
              "      <td>70.0</td>\n",
              "      <td>3.5</td>\n",
              "      <td>南南西</td>\n",
              "      <td>0.0</td>\n",
              "      <td>0.0</td>\n",
              "      <td>...</td>\n",
              "      <td>0.9</td>\n",
              "      <td>1.928571</td>\n",
              "      <td>4.0</td>\n",
              "      <td>0.0</td>\n",
              "      <td>0.000000</td>\n",
              "      <td>0.0</td>\n",
              "      <td>0.0</td>\n",
              "      <td>-3.557143</td>\n",
              "      <td>0.0</td>\n",
              "      <td>-5.0</td>\n",
              "    </tr>\n",
              "    <tr>\n",
              "      <th>3</th>\n",
              "      <td>2021-01-01 03:00:00</td>\n",
              "      <td>1412</td>\n",
              "      <td>0.0</td>\n",
              "      <td>-0.8</td>\n",
              "      <td>-4.7</td>\n",
              "      <td>75.0</td>\n",
              "      <td>2.3</td>\n",
              "      <td>南南東</td>\n",
              "      <td>0.0</td>\n",
              "      <td>0.0</td>\n",
              "      <td>...</td>\n",
              "      <td>1.8</td>\n",
              "      <td>1.628571</td>\n",
              "      <td>4.1</td>\n",
              "      <td>-0.8</td>\n",
              "      <td>0.285714</td>\n",
              "      <td>2.0</td>\n",
              "      <td>0.0</td>\n",
              "      <td>-3.400000</td>\n",
              "      <td>0.1</td>\n",
              "      <td>-4.7</td>\n",
              "    </tr>\n",
              "    <tr>\n",
              "      <th>4</th>\n",
              "      <td>2021-01-01 04:00:00</td>\n",
              "      <td>1358</td>\n",
              "      <td>0.0</td>\n",
              "      <td>0.2</td>\n",
              "      <td>-4.0</td>\n",
              "      <td>73.0</td>\n",
              "      <td>2.5</td>\n",
              "      <td>南南西</td>\n",
              "      <td>0.0</td>\n",
              "      <td>0.0</td>\n",
              "      <td>...</td>\n",
              "      <td>2.3</td>\n",
              "      <td>1.871429</td>\n",
              "      <td>4.6</td>\n",
              "      <td>0.0</td>\n",
              "      <td>0.000000</td>\n",
              "      <td>0.0</td>\n",
              "      <td>0.0</td>\n",
              "      <td>-2.971429</td>\n",
              "      <td>0.2</td>\n",
              "      <td>-4.6</td>\n",
              "    </tr>\n",
              "  </tbody>\n",
              "</table>\n",
              "<p>5 rows × 89 columns</p>\n",
              "</div>\n",
              "    <div class=\"colab-df-buttons\">\n",
              "\n",
              "  <div class=\"colab-df-container\">\n",
              "    <button class=\"colab-df-convert\" onclick=\"convertToInteractive('df-321ed561-f2a3-4b82-a511-3fafc29df998')\"\n",
              "            title=\"Convert this dataframe to an interactive table.\"\n",
              "            style=\"display:none;\">\n",
              "\n",
              "  <svg xmlns=\"http://www.w3.org/2000/svg\" height=\"24px\" viewBox=\"0 -960 960 960\">\n",
              "    <path d=\"M120-120v-720h720v720H120Zm60-500h600v-160H180v160Zm220 220h160v-160H400v160Zm0 220h160v-160H400v160ZM180-400h160v-160H180v160Zm440 0h160v-160H620v160ZM180-180h160v-160H180v160Zm440 0h160v-160H620v160Z\"/>\n",
              "  </svg>\n",
              "    </button>\n",
              "\n",
              "  <style>\n",
              "    .colab-df-container {\n",
              "      display:flex;\n",
              "      gap: 12px;\n",
              "    }\n",
              "\n",
              "    .colab-df-convert {\n",
              "      background-color: #E8F0FE;\n",
              "      border: none;\n",
              "      border-radius: 50%;\n",
              "      cursor: pointer;\n",
              "      display: none;\n",
              "      fill: #1967D2;\n",
              "      height: 32px;\n",
              "      padding: 0 0 0 0;\n",
              "      width: 32px;\n",
              "    }\n",
              "\n",
              "    .colab-df-convert:hover {\n",
              "      background-color: #E2EBFA;\n",
              "      box-shadow: 0px 1px 2px rgba(60, 64, 67, 0.3), 0px 1px 3px 1px rgba(60, 64, 67, 0.15);\n",
              "      fill: #174EA6;\n",
              "    }\n",
              "\n",
              "    .colab-df-buttons div {\n",
              "      margin-bottom: 4px;\n",
              "    }\n",
              "\n",
              "    [theme=dark] .colab-df-convert {\n",
              "      background-color: #3B4455;\n",
              "      fill: #D2E3FC;\n",
              "    }\n",
              "\n",
              "    [theme=dark] .colab-df-convert:hover {\n",
              "      background-color: #434B5C;\n",
              "      box-shadow: 0px 1px 3px 1px rgba(0, 0, 0, 0.15);\n",
              "      filter: drop-shadow(0px 1px 2px rgba(0, 0, 0, 0.3));\n",
              "      fill: #FFFFFF;\n",
              "    }\n",
              "  </style>\n",
              "\n",
              "    <script>\n",
              "      const buttonEl =\n",
              "        document.querySelector('#df-321ed561-f2a3-4b82-a511-3fafc29df998 button.colab-df-convert');\n",
              "      buttonEl.style.display =\n",
              "        google.colab.kernel.accessAllowed ? 'block' : 'none';\n",
              "\n",
              "      async function convertToInteractive(key) {\n",
              "        const element = document.querySelector('#df-321ed561-f2a3-4b82-a511-3fafc29df998');\n",
              "        const dataTable =\n",
              "          await google.colab.kernel.invokeFunction('convertToInteractive',\n",
              "                                                    [key], {});\n",
              "        if (!dataTable) return;\n",
              "\n",
              "        const docLinkHtml = 'Like what you see? Visit the ' +\n",
              "          '<a target=\"_blank\" href=https://colab.research.google.com/notebooks/data_table.ipynb>data table notebook</a>'\n",
              "          + ' to learn more about interactive tables.';\n",
              "        element.innerHTML = '';\n",
              "        dataTable['output_type'] = 'display_data';\n",
              "        await google.colab.output.renderOutput(dataTable, element);\n",
              "        const docLink = document.createElement('div');\n",
              "        docLink.innerHTML = docLinkHtml;\n",
              "        element.appendChild(docLink);\n",
              "      }\n",
              "    </script>\n",
              "  </div>\n",
              "\n",
              "\n",
              "<div id=\"df-dc6e545c-5836-495f-9e59-f81042ed7b90\">\n",
              "  <button class=\"colab-df-quickchart\" onclick=\"quickchart('df-dc6e545c-5836-495f-9e59-f81042ed7b90')\"\n",
              "            title=\"Suggest charts\"\n",
              "            style=\"display:none;\">\n",
              "\n",
              "<svg xmlns=\"http://www.w3.org/2000/svg\" height=\"24px\"viewBox=\"0 0 24 24\"\n",
              "     width=\"24px\">\n",
              "    <g>\n",
              "        <path d=\"M19 3H5c-1.1 0-2 .9-2 2v14c0 1.1.9 2 2 2h14c1.1 0 2-.9 2-2V5c0-1.1-.9-2-2-2zM9 17H7v-7h2v7zm4 0h-2V7h2v10zm4 0h-2v-4h2v4z\"/>\n",
              "    </g>\n",
              "</svg>\n",
              "  </button>\n",
              "\n",
              "<style>\n",
              "  .colab-df-quickchart {\n",
              "      --bg-color: #E8F0FE;\n",
              "      --fill-color: #1967D2;\n",
              "      --hover-bg-color: #E2EBFA;\n",
              "      --hover-fill-color: #174EA6;\n",
              "      --disabled-fill-color: #AAA;\n",
              "      --disabled-bg-color: #DDD;\n",
              "  }\n",
              "\n",
              "  [theme=dark] .colab-df-quickchart {\n",
              "      --bg-color: #3B4455;\n",
              "      --fill-color: #D2E3FC;\n",
              "      --hover-bg-color: #434B5C;\n",
              "      --hover-fill-color: #FFFFFF;\n",
              "      --disabled-bg-color: #3B4455;\n",
              "      --disabled-fill-color: #666;\n",
              "  }\n",
              "\n",
              "  .colab-df-quickchart {\n",
              "    background-color: var(--bg-color);\n",
              "    border: none;\n",
              "    border-radius: 50%;\n",
              "    cursor: pointer;\n",
              "    display: none;\n",
              "    fill: var(--fill-color);\n",
              "    height: 32px;\n",
              "    padding: 0;\n",
              "    width: 32px;\n",
              "  }\n",
              "\n",
              "  .colab-df-quickchart:hover {\n",
              "    background-color: var(--hover-bg-color);\n",
              "    box-shadow: 0 1px 2px rgba(60, 64, 67, 0.3), 0 1px 3px 1px rgba(60, 64, 67, 0.15);\n",
              "    fill: var(--button-hover-fill-color);\n",
              "  }\n",
              "\n",
              "  .colab-df-quickchart-complete:disabled,\n",
              "  .colab-df-quickchart-complete:disabled:hover {\n",
              "    background-color: var(--disabled-bg-color);\n",
              "    fill: var(--disabled-fill-color);\n",
              "    box-shadow: none;\n",
              "  }\n",
              "\n",
              "  .colab-df-spinner {\n",
              "    border: 2px solid var(--fill-color);\n",
              "    border-color: transparent;\n",
              "    border-bottom-color: var(--fill-color);\n",
              "    animation:\n",
              "      spin 1s steps(1) infinite;\n",
              "  }\n",
              "\n",
              "  @keyframes spin {\n",
              "    0% {\n",
              "      border-color: transparent;\n",
              "      border-bottom-color: var(--fill-color);\n",
              "      border-left-color: var(--fill-color);\n",
              "    }\n",
              "    20% {\n",
              "      border-color: transparent;\n",
              "      border-left-color: var(--fill-color);\n",
              "      border-top-color: var(--fill-color);\n",
              "    }\n",
              "    30% {\n",
              "      border-color: transparent;\n",
              "      border-left-color: var(--fill-color);\n",
              "      border-top-color: var(--fill-color);\n",
              "      border-right-color: var(--fill-color);\n",
              "    }\n",
              "    40% {\n",
              "      border-color: transparent;\n",
              "      border-right-color: var(--fill-color);\n",
              "      border-top-color: var(--fill-color);\n",
              "    }\n",
              "    60% {\n",
              "      border-color: transparent;\n",
              "      border-right-color: var(--fill-color);\n",
              "    }\n",
              "    80% {\n",
              "      border-color: transparent;\n",
              "      border-right-color: var(--fill-color);\n",
              "      border-bottom-color: var(--fill-color);\n",
              "    }\n",
              "    90% {\n",
              "      border-color: transparent;\n",
              "      border-bottom-color: var(--fill-color);\n",
              "    }\n",
              "  }\n",
              "</style>\n",
              "\n",
              "  <script>\n",
              "    async function quickchart(key) {\n",
              "      const quickchartButtonEl =\n",
              "        document.querySelector('#' + key + ' button');\n",
              "      quickchartButtonEl.disabled = true;  // To prevent multiple clicks.\n",
              "      quickchartButtonEl.classList.add('colab-df-spinner');\n",
              "      try {\n",
              "        const charts = await google.colab.kernel.invokeFunction(\n",
              "            'suggestCharts', [key], {});\n",
              "      } catch (error) {\n",
              "        console.error('Error during call to suggestCharts:', error);\n",
              "      }\n",
              "      quickchartButtonEl.classList.remove('colab-df-spinner');\n",
              "      quickchartButtonEl.classList.add('colab-df-quickchart-complete');\n",
              "    }\n",
              "    (() => {\n",
              "      let quickchartButtonEl =\n",
              "        document.querySelector('#df-dc6e545c-5836-495f-9e59-f81042ed7b90 button');\n",
              "      quickchartButtonEl.style.display =\n",
              "        google.colab.kernel.accessAllowed ? 'block' : 'none';\n",
              "    })();\n",
              "  </script>\n",
              "</div>\n",
              "\n",
              "    </div>\n",
              "  </div>\n"
            ],
            "application/vnd.google.colaboratory.intrinsic+json": {
              "type": "dataframe",
              "variable_name": "final_df"
            }
          },
          "metadata": {},
          "execution_count": 39
        }
      ]
    },
    {
      "cell_type": "code",
      "source": [
        "final_df.columns.tolist()"
      ],
      "metadata": {
        "colab": {
          "base_uri": "https://localhost:8080/"
        },
        "id": "MDf7p8h87jj5",
        "outputId": "d09322c8-e2ae-4f20-c5c0-d95b3d1c7263"
      },
      "execution_count": null,
      "outputs": [
        {
          "output_type": "execute_result",
          "data": {
            "text/plain": [
              "['datetime',\n",
              " 'actual_performance(10',\n",
              " 'hikone_dew_point_temperature',\n",
              " 'hikone_humidity',\n",
              " 'hikone_precipitation',\n",
              " 'hikone_snowfall',\n",
              " 'hikone_temperature',\n",
              " 'hikone_wind_direction',\n",
              " 'hikone_wind_speed',\n",
              " 'kobe_dew_point_temperature',\n",
              " 'kobe_humidity',\n",
              " 'kobe_precipitation',\n",
              " 'kobe_snowfall',\n",
              " 'kobe_temperature',\n",
              " 'kobe_wind_direction',\n",
              " 'kobe_wind_speed',\n",
              " 'kyoto_dew_point_temperature',\n",
              " 'kyoto_humidity',\n",
              " 'kyoto_precipitation',\n",
              " 'kyoto_snowfall',\n",
              " 'kyoto_temperature',\n",
              " 'kyoto_wind_direction',\n",
              " 'kyoto_wind_speed',\n",
              " 'osaka_dew_point_temperature',\n",
              " 'osaka_humidity',\n",
              " 'osaka_precipitation',\n",
              " 'osaka_snowfall',\n",
              " 'osaka_temperature',\n",
              " 'osaka_wind_direction',\n",
              " 'osaka_wind_speed',\n",
              " 'shionomisaki_dew_point_temperature',\n",
              " 'shionomisaki_humidity',\n",
              " 'shionomisaki_precipitation',\n",
              " 'shionomisaki_snowfall',\n",
              " 'shionomisaki_temperature',\n",
              " 'shionomisaki_wind_direction',\n",
              " 'shionomisaki_wind_speed',\n",
              " 'toyooka_dew_point_temperature',\n",
              " 'toyooka_humidity',\n",
              " 'toyooka_precipitation',\n",
              " 'toyooka_snowfall',\n",
              " 'toyooka_temperature',\n",
              " 'toyooka_wind_direction',\n",
              " 'toyooka_wind_speed',\n",
              " 'wakayama_dew_point_temperature',\n",
              " 'wakayama_humidity',\n",
              " 'wakayama_precipitation',\n",
              " 'wakayama_snowfall',\n",
              " 'wakayama_temperature',\n",
              " 'wakayama_wind_direction',\n",
              " 'wakayama_wind_speed',\n",
              " 'year',\n",
              " 'month',\n",
              " 'day',\n",
              " 'hour',\n",
              " 'dayofweek',\n",
              " 'isweekend',\n",
              " 'isholiday',\n",
              " 'demand_lag_1h',\n",
              " 'demand_lag_2h',\n",
              " 'demand_lag_3h',\n",
              " 'demand_lag_4h',\n",
              " 'demand_lag_5h',\n",
              " 'demand_lag_6h',\n",
              " 'demand_lag_1d',\n",
              " 'demand_lag_2d',\n",
              " 'demand_lag_3d',\n",
              " 'demand_lag_4d',\n",
              " 'demand_lag_5d',\n",
              " 'demand_lag_6d',\n",
              " 'demand_lag_7d',\n",
              " 'demand_lag_1w',\n",
              " 'demand_lag_2w',\n",
              " 'demand_ma_24h',\n",
              " 'demand_ma_7d',\n",
              " 'demand_same_hour_1d',\n",
              " 'demand_same_hour_1w',\n",
              " 'mean_temperature',\n",
              " 'max_temperature',\n",
              " 'min_temperature',\n",
              " 'mean_humidity',\n",
              " 'max_humidity',\n",
              " 'min_humidity',\n",
              " 'mean_wind_speed',\n",
              " 'max_wind_speed',\n",
              " 'min_wind_speed',\n",
              " 'mean_precipitation',\n",
              " 'max_precipitation',\n",
              " 'min_precipitation']"
            ]
          },
          "metadata": {},
          "execution_count": 41
        }
      ]
    },
    {
      "cell_type": "markdown",
      "source": [
        "These are too many columns for our model to predict the electricity demand, so removing some columns which dont add much value for our outcome prediction."
      ],
      "metadata": {
        "id": "pj57Mtkg_uBu"
      }
    },
    {
      "cell_type": "code",
      "source": [
        "# Removing unwanted columns from the final_df\n",
        "\n",
        "# Removing individual city weather details because I have added a overall details in one column considering mean of all the city values.\n",
        "cities = ['hikone', 'kobe', 'kyoto', 'osaka', 'shionomisaki', 'toyooka', 'wakayama']\n",
        "\n",
        "columns_to_remove = [col for col in final_df.columns if any(col.startswith(city + '_') for city in cities)]\n",
        "final_df = final_df.drop(columns=columns_to_remove)"
      ],
      "metadata": {
        "id": "fOfZizgLFnvB"
      },
      "execution_count": null,
      "outputs": []
    },
    {
      "cell_type": "code",
      "source": [
        "final_df.columns.tolist()"
      ],
      "metadata": {
        "colab": {
          "base_uri": "https://localhost:8080/"
        },
        "id": "AwK3Jz1vGKQE",
        "outputId": "6c287c77-148a-46c6-a19d-66b936a72f56"
      },
      "execution_count": null,
      "outputs": [
        {
          "output_type": "execute_result",
          "data": {
            "text/plain": [
              "['datetime',\n",
              " 'actual_performance(10',\n",
              " 'year',\n",
              " 'month',\n",
              " 'day',\n",
              " 'hour',\n",
              " 'dayofweek',\n",
              " 'isweekend',\n",
              " 'isholiday',\n",
              " 'demand_lag_1h',\n",
              " 'demand_lag_2h',\n",
              " 'demand_lag_3h',\n",
              " 'demand_lag_4h',\n",
              " 'demand_lag_5h',\n",
              " 'demand_lag_6h',\n",
              " 'demand_lag_1d',\n",
              " 'demand_lag_2d',\n",
              " 'demand_lag_3d',\n",
              " 'demand_lag_4d',\n",
              " 'demand_lag_5d',\n",
              " 'demand_lag_6d',\n",
              " 'demand_lag_7d',\n",
              " 'demand_lag_1w',\n",
              " 'demand_lag_2w',\n",
              " 'demand_ma_24h',\n",
              " 'demand_ma_7d',\n",
              " 'demand_same_hour_1d',\n",
              " 'demand_same_hour_1w',\n",
              " 'mean_temperature',\n",
              " 'max_temperature',\n",
              " 'min_temperature',\n",
              " 'mean_humidity',\n",
              " 'max_humidity',\n",
              " 'min_humidity',\n",
              " 'mean_wind_speed',\n",
              " 'max_wind_speed',\n",
              " 'min_wind_speed',\n",
              " 'mean_precipitation',\n",
              " 'max_precipitation',\n",
              " 'min_precipitation']"
            ]
          },
          "metadata": {},
          "execution_count": 44
        }
      ]
    },
    {
      "cell_type": "code",
      "source": [
        "final_df.shape"
      ],
      "metadata": {
        "colab": {
          "base_uri": "https://localhost:8080/"
        },
        "id": "BuJo58AzGQ8e",
        "outputId": "e8cf6816-7072-4075-c9ff-ecf40b76f942"
      },
      "execution_count": null,
      "outputs": [
        {
          "output_type": "execute_result",
          "data": {
            "text/plain": [
              "(26280, 40)"
            ]
          },
          "metadata": {},
          "execution_count": 45
        }
      ]
    },
    {
      "cell_type": "code",
      "source": [
        "print(final_df['datetime'].min())\n",
        "print(final_df['datetime'].max())"
      ],
      "metadata": {
        "colab": {
          "base_uri": "https://localhost:8080/"
        },
        "id": "WsT2rfJv7tsi",
        "outputId": "62b03256-f124-4929-e259-ac073e7f1794"
      },
      "execution_count": null,
      "outputs": [
        {
          "output_type": "stream",
          "name": "stdout",
          "text": [
            "2021-01-01 00:00:00\n",
            "2023-12-31 23:00:00\n"
          ]
        }
      ]
    },
    {
      "cell_type": "code",
      "source": [],
      "metadata": {
        "id": "Hl4D6T_oJd8q"
      },
      "execution_count": null,
      "outputs": []
    },
    {
      "cell_type": "markdown",
      "source": [
        "## **Splitting Train and Test Data**"
      ],
      "metadata": {
        "id": "R72yvhUxHXWp"
      }
    },
    {
      "cell_type": "markdown",
      "source": [
        "The forecasting challenge specifically requires predictions for the entire year of 2023, covering the period:\n",
        "- Start: January 1, 2023, 00:00:00\n",
        "- End: December 31, 2023, 23:00:00"
      ],
      "metadata": {
        "id": "4wHAgPHEAi6J"
      }
    },
    {
      "cell_type": "code",
      "source": [
        "# Define split point (end of 2022)\n",
        "split_date = '2023-01-01'\n",
        "\n",
        "# Training data (up to end of 2022)\n",
        "train_data = final_df[final_df['datetime'] < split_date]\n",
        "\n",
        "# Test data (2023)\n",
        "test_data = final_df[final_df['datetime'] >= split_date]"
      ],
      "metadata": {
        "id": "uR6EXVgLHW6E"
      },
      "execution_count": null,
      "outputs": []
    },
    {
      "cell_type": "code",
      "source": [
        "final_df = final_df.drop(columns=['datetime'])"
      ],
      "metadata": {
        "id": "bKcbyKe4MGsK"
      },
      "execution_count": null,
      "outputs": []
    },
    {
      "cell_type": "code",
      "source": [
        "train_data.head()"
      ],
      "metadata": {
        "colab": {
          "base_uri": "https://localhost:8080/",
          "height": 429
        },
        "id": "aufS_I4WK6jJ",
        "outputId": "403812aa-30fd-4d52-a46e-46e32d3ca897"
      },
      "execution_count": null,
      "outputs": [
        {
          "output_type": "execute_result",
          "data": {
            "text/plain": [
              "             datetime  actual_performance(10  year  month  day  hour  \\\n",
              "0 2021-01-01 00:00:00                   1571  2021      1    1     0   \n",
              "1 2021-01-01 01:00:00                   1492  2021      1    1     1   \n",
              "2 2021-01-01 02:00:00                   1453  2021      1    1     2   \n",
              "3 2021-01-01 03:00:00                   1412  2021      1    1     3   \n",
              "4 2021-01-01 04:00:00                   1358  2021      1    1     4   \n",
              "\n",
              "   dayofweek  isweekend  isholiday  demand_lag_1h  ...  min_temperature  \\\n",
              "0          4          0          1            NaN  ...              2.1   \n",
              "1          4          0          1         1571.0  ...              1.5   \n",
              "2          4          0          1         1492.0  ...              0.9   \n",
              "3          4          0          1         1453.0  ...              1.8   \n",
              "4          4          0          1         1412.0  ...              2.3   \n",
              "\n",
              "   mean_humidity  max_humidity  min_humidity  mean_wind_speed  max_wind_speed  \\\n",
              "0       1.700000           3.7          -0.3         0.142857             1.0   \n",
              "1       1.900000           4.1          -0.2         0.285714             2.0   \n",
              "2       1.928571           4.0           0.0         0.000000             0.0   \n",
              "3       1.628571           4.1          -0.8         0.285714             2.0   \n",
              "4       1.871429           4.6           0.0         0.000000             0.0   \n",
              "\n",
              "   min_wind_speed  mean_precipitation  max_precipitation  min_precipitation  \n",
              "0             0.0           -3.328571               -0.4               -5.0  \n",
              "1             0.0           -3.271429               -0.3               -4.9  \n",
              "2             0.0           -3.557143                0.0               -5.0  \n",
              "3             0.0           -3.400000                0.1               -4.7  \n",
              "4             0.0           -2.971429                0.2               -4.6  \n",
              "\n",
              "[5 rows x 40 columns]"
            ],
            "text/html": [
              "\n",
              "  <div id=\"df-7ac2f292-f7ca-4c68-89c5-2ec8cb416189\" class=\"colab-df-container\">\n",
              "    <div>\n",
              "<style scoped>\n",
              "    .dataframe tbody tr th:only-of-type {\n",
              "        vertical-align: middle;\n",
              "    }\n",
              "\n",
              "    .dataframe tbody tr th {\n",
              "        vertical-align: top;\n",
              "    }\n",
              "\n",
              "    .dataframe thead th {\n",
              "        text-align: right;\n",
              "    }\n",
              "</style>\n",
              "<table border=\"1\" class=\"dataframe\">\n",
              "  <thead>\n",
              "    <tr style=\"text-align: right;\">\n",
              "      <th></th>\n",
              "      <th>datetime</th>\n",
              "      <th>actual_performance(10</th>\n",
              "      <th>year</th>\n",
              "      <th>month</th>\n",
              "      <th>day</th>\n",
              "      <th>hour</th>\n",
              "      <th>dayofweek</th>\n",
              "      <th>isweekend</th>\n",
              "      <th>isholiday</th>\n",
              "      <th>demand_lag_1h</th>\n",
              "      <th>...</th>\n",
              "      <th>min_temperature</th>\n",
              "      <th>mean_humidity</th>\n",
              "      <th>max_humidity</th>\n",
              "      <th>min_humidity</th>\n",
              "      <th>mean_wind_speed</th>\n",
              "      <th>max_wind_speed</th>\n",
              "      <th>min_wind_speed</th>\n",
              "      <th>mean_precipitation</th>\n",
              "      <th>max_precipitation</th>\n",
              "      <th>min_precipitation</th>\n",
              "    </tr>\n",
              "  </thead>\n",
              "  <tbody>\n",
              "    <tr>\n",
              "      <th>0</th>\n",
              "      <td>2021-01-01 00:00:00</td>\n",
              "      <td>1571</td>\n",
              "      <td>2021</td>\n",
              "      <td>1</td>\n",
              "      <td>1</td>\n",
              "      <td>0</td>\n",
              "      <td>4</td>\n",
              "      <td>0</td>\n",
              "      <td>1</td>\n",
              "      <td>NaN</td>\n",
              "      <td>...</td>\n",
              "      <td>2.1</td>\n",
              "      <td>1.700000</td>\n",
              "      <td>3.7</td>\n",
              "      <td>-0.3</td>\n",
              "      <td>0.142857</td>\n",
              "      <td>1.0</td>\n",
              "      <td>0.0</td>\n",
              "      <td>-3.328571</td>\n",
              "      <td>-0.4</td>\n",
              "      <td>-5.0</td>\n",
              "    </tr>\n",
              "    <tr>\n",
              "      <th>1</th>\n",
              "      <td>2021-01-01 01:00:00</td>\n",
              "      <td>1492</td>\n",
              "      <td>2021</td>\n",
              "      <td>1</td>\n",
              "      <td>1</td>\n",
              "      <td>1</td>\n",
              "      <td>4</td>\n",
              "      <td>0</td>\n",
              "      <td>1</td>\n",
              "      <td>1571.0</td>\n",
              "      <td>...</td>\n",
              "      <td>1.5</td>\n",
              "      <td>1.900000</td>\n",
              "      <td>4.1</td>\n",
              "      <td>-0.2</td>\n",
              "      <td>0.285714</td>\n",
              "      <td>2.0</td>\n",
              "      <td>0.0</td>\n",
              "      <td>-3.271429</td>\n",
              "      <td>-0.3</td>\n",
              "      <td>-4.9</td>\n",
              "    </tr>\n",
              "    <tr>\n",
              "      <th>2</th>\n",
              "      <td>2021-01-01 02:00:00</td>\n",
              "      <td>1453</td>\n",
              "      <td>2021</td>\n",
              "      <td>1</td>\n",
              "      <td>1</td>\n",
              "      <td>2</td>\n",
              "      <td>4</td>\n",
              "      <td>0</td>\n",
              "      <td>1</td>\n",
              "      <td>1492.0</td>\n",
              "      <td>...</td>\n",
              "      <td>0.9</td>\n",
              "      <td>1.928571</td>\n",
              "      <td>4.0</td>\n",
              "      <td>0.0</td>\n",
              "      <td>0.000000</td>\n",
              "      <td>0.0</td>\n",
              "      <td>0.0</td>\n",
              "      <td>-3.557143</td>\n",
              "      <td>0.0</td>\n",
              "      <td>-5.0</td>\n",
              "    </tr>\n",
              "    <tr>\n",
              "      <th>3</th>\n",
              "      <td>2021-01-01 03:00:00</td>\n",
              "      <td>1412</td>\n",
              "      <td>2021</td>\n",
              "      <td>1</td>\n",
              "      <td>1</td>\n",
              "      <td>3</td>\n",
              "      <td>4</td>\n",
              "      <td>0</td>\n",
              "      <td>1</td>\n",
              "      <td>1453.0</td>\n",
              "      <td>...</td>\n",
              "      <td>1.8</td>\n",
              "      <td>1.628571</td>\n",
              "      <td>4.1</td>\n",
              "      <td>-0.8</td>\n",
              "      <td>0.285714</td>\n",
              "      <td>2.0</td>\n",
              "      <td>0.0</td>\n",
              "      <td>-3.400000</td>\n",
              "      <td>0.1</td>\n",
              "      <td>-4.7</td>\n",
              "    </tr>\n",
              "    <tr>\n",
              "      <th>4</th>\n",
              "      <td>2021-01-01 04:00:00</td>\n",
              "      <td>1358</td>\n",
              "      <td>2021</td>\n",
              "      <td>1</td>\n",
              "      <td>1</td>\n",
              "      <td>4</td>\n",
              "      <td>4</td>\n",
              "      <td>0</td>\n",
              "      <td>1</td>\n",
              "      <td>1412.0</td>\n",
              "      <td>...</td>\n",
              "      <td>2.3</td>\n",
              "      <td>1.871429</td>\n",
              "      <td>4.6</td>\n",
              "      <td>0.0</td>\n",
              "      <td>0.000000</td>\n",
              "      <td>0.0</td>\n",
              "      <td>0.0</td>\n",
              "      <td>-2.971429</td>\n",
              "      <td>0.2</td>\n",
              "      <td>-4.6</td>\n",
              "    </tr>\n",
              "  </tbody>\n",
              "</table>\n",
              "<p>5 rows × 40 columns</p>\n",
              "</div>\n",
              "    <div class=\"colab-df-buttons\">\n",
              "\n",
              "  <div class=\"colab-df-container\">\n",
              "    <button class=\"colab-df-convert\" onclick=\"convertToInteractive('df-7ac2f292-f7ca-4c68-89c5-2ec8cb416189')\"\n",
              "            title=\"Convert this dataframe to an interactive table.\"\n",
              "            style=\"display:none;\">\n",
              "\n",
              "  <svg xmlns=\"http://www.w3.org/2000/svg\" height=\"24px\" viewBox=\"0 -960 960 960\">\n",
              "    <path d=\"M120-120v-720h720v720H120Zm60-500h600v-160H180v160Zm220 220h160v-160H400v160Zm0 220h160v-160H400v160ZM180-400h160v-160H180v160Zm440 0h160v-160H620v160ZM180-180h160v-160H180v160Zm440 0h160v-160H620v160Z\"/>\n",
              "  </svg>\n",
              "    </button>\n",
              "\n",
              "  <style>\n",
              "    .colab-df-container {\n",
              "      display:flex;\n",
              "      gap: 12px;\n",
              "    }\n",
              "\n",
              "    .colab-df-convert {\n",
              "      background-color: #E8F0FE;\n",
              "      border: none;\n",
              "      border-radius: 50%;\n",
              "      cursor: pointer;\n",
              "      display: none;\n",
              "      fill: #1967D2;\n",
              "      height: 32px;\n",
              "      padding: 0 0 0 0;\n",
              "      width: 32px;\n",
              "    }\n",
              "\n",
              "    .colab-df-convert:hover {\n",
              "      background-color: #E2EBFA;\n",
              "      box-shadow: 0px 1px 2px rgba(60, 64, 67, 0.3), 0px 1px 3px 1px rgba(60, 64, 67, 0.15);\n",
              "      fill: #174EA6;\n",
              "    }\n",
              "\n",
              "    .colab-df-buttons div {\n",
              "      margin-bottom: 4px;\n",
              "    }\n",
              "\n",
              "    [theme=dark] .colab-df-convert {\n",
              "      background-color: #3B4455;\n",
              "      fill: #D2E3FC;\n",
              "    }\n",
              "\n",
              "    [theme=dark] .colab-df-convert:hover {\n",
              "      background-color: #434B5C;\n",
              "      box-shadow: 0px 1px 3px 1px rgba(0, 0, 0, 0.15);\n",
              "      filter: drop-shadow(0px 1px 2px rgba(0, 0, 0, 0.3));\n",
              "      fill: #FFFFFF;\n",
              "    }\n",
              "  </style>\n",
              "\n",
              "    <script>\n",
              "      const buttonEl =\n",
              "        document.querySelector('#df-7ac2f292-f7ca-4c68-89c5-2ec8cb416189 button.colab-df-convert');\n",
              "      buttonEl.style.display =\n",
              "        google.colab.kernel.accessAllowed ? 'block' : 'none';\n",
              "\n",
              "      async function convertToInteractive(key) {\n",
              "        const element = document.querySelector('#df-7ac2f292-f7ca-4c68-89c5-2ec8cb416189');\n",
              "        const dataTable =\n",
              "          await google.colab.kernel.invokeFunction('convertToInteractive',\n",
              "                                                    [key], {});\n",
              "        if (!dataTable) return;\n",
              "\n",
              "        const docLinkHtml = 'Like what you see? Visit the ' +\n",
              "          '<a target=\"_blank\" href=https://colab.research.google.com/notebooks/data_table.ipynb>data table notebook</a>'\n",
              "          + ' to learn more about interactive tables.';\n",
              "        element.innerHTML = '';\n",
              "        dataTable['output_type'] = 'display_data';\n",
              "        await google.colab.output.renderOutput(dataTable, element);\n",
              "        const docLink = document.createElement('div');\n",
              "        docLink.innerHTML = docLinkHtml;\n",
              "        element.appendChild(docLink);\n",
              "      }\n",
              "    </script>\n",
              "  </div>\n",
              "\n",
              "\n",
              "<div id=\"df-73c934d3-4c17-4b08-81fc-26a47ffb75cd\">\n",
              "  <button class=\"colab-df-quickchart\" onclick=\"quickchart('df-73c934d3-4c17-4b08-81fc-26a47ffb75cd')\"\n",
              "            title=\"Suggest charts\"\n",
              "            style=\"display:none;\">\n",
              "\n",
              "<svg xmlns=\"http://www.w3.org/2000/svg\" height=\"24px\"viewBox=\"0 0 24 24\"\n",
              "     width=\"24px\">\n",
              "    <g>\n",
              "        <path d=\"M19 3H5c-1.1 0-2 .9-2 2v14c0 1.1.9 2 2 2h14c1.1 0 2-.9 2-2V5c0-1.1-.9-2-2-2zM9 17H7v-7h2v7zm4 0h-2V7h2v10zm4 0h-2v-4h2v4z\"/>\n",
              "    </g>\n",
              "</svg>\n",
              "  </button>\n",
              "\n",
              "<style>\n",
              "  .colab-df-quickchart {\n",
              "      --bg-color: #E8F0FE;\n",
              "      --fill-color: #1967D2;\n",
              "      --hover-bg-color: #E2EBFA;\n",
              "      --hover-fill-color: #174EA6;\n",
              "      --disabled-fill-color: #AAA;\n",
              "      --disabled-bg-color: #DDD;\n",
              "  }\n",
              "\n",
              "  [theme=dark] .colab-df-quickchart {\n",
              "      --bg-color: #3B4455;\n",
              "      --fill-color: #D2E3FC;\n",
              "      --hover-bg-color: #434B5C;\n",
              "      --hover-fill-color: #FFFFFF;\n",
              "      --disabled-bg-color: #3B4455;\n",
              "      --disabled-fill-color: #666;\n",
              "  }\n",
              "\n",
              "  .colab-df-quickchart {\n",
              "    background-color: var(--bg-color);\n",
              "    border: none;\n",
              "    border-radius: 50%;\n",
              "    cursor: pointer;\n",
              "    display: none;\n",
              "    fill: var(--fill-color);\n",
              "    height: 32px;\n",
              "    padding: 0;\n",
              "    width: 32px;\n",
              "  }\n",
              "\n",
              "  .colab-df-quickchart:hover {\n",
              "    background-color: var(--hover-bg-color);\n",
              "    box-shadow: 0 1px 2px rgba(60, 64, 67, 0.3), 0 1px 3px 1px rgba(60, 64, 67, 0.15);\n",
              "    fill: var(--button-hover-fill-color);\n",
              "  }\n",
              "\n",
              "  .colab-df-quickchart-complete:disabled,\n",
              "  .colab-df-quickchart-complete:disabled:hover {\n",
              "    background-color: var(--disabled-bg-color);\n",
              "    fill: var(--disabled-fill-color);\n",
              "    box-shadow: none;\n",
              "  }\n",
              "\n",
              "  .colab-df-spinner {\n",
              "    border: 2px solid var(--fill-color);\n",
              "    border-color: transparent;\n",
              "    border-bottom-color: var(--fill-color);\n",
              "    animation:\n",
              "      spin 1s steps(1) infinite;\n",
              "  }\n",
              "\n",
              "  @keyframes spin {\n",
              "    0% {\n",
              "      border-color: transparent;\n",
              "      border-bottom-color: var(--fill-color);\n",
              "      border-left-color: var(--fill-color);\n",
              "    }\n",
              "    20% {\n",
              "      border-color: transparent;\n",
              "      border-left-color: var(--fill-color);\n",
              "      border-top-color: var(--fill-color);\n",
              "    }\n",
              "    30% {\n",
              "      border-color: transparent;\n",
              "      border-left-color: var(--fill-color);\n",
              "      border-top-color: var(--fill-color);\n",
              "      border-right-color: var(--fill-color);\n",
              "    }\n",
              "    40% {\n",
              "      border-color: transparent;\n",
              "      border-right-color: var(--fill-color);\n",
              "      border-top-color: var(--fill-color);\n",
              "    }\n",
              "    60% {\n",
              "      border-color: transparent;\n",
              "      border-right-color: var(--fill-color);\n",
              "    }\n",
              "    80% {\n",
              "      border-color: transparent;\n",
              "      border-right-color: var(--fill-color);\n",
              "      border-bottom-color: var(--fill-color);\n",
              "    }\n",
              "    90% {\n",
              "      border-color: transparent;\n",
              "      border-bottom-color: var(--fill-color);\n",
              "    }\n",
              "  }\n",
              "</style>\n",
              "\n",
              "  <script>\n",
              "    async function quickchart(key) {\n",
              "      const quickchartButtonEl =\n",
              "        document.querySelector('#' + key + ' button');\n",
              "      quickchartButtonEl.disabled = true;  // To prevent multiple clicks.\n",
              "      quickchartButtonEl.classList.add('colab-df-spinner');\n",
              "      try {\n",
              "        const charts = await google.colab.kernel.invokeFunction(\n",
              "            'suggestCharts', [key], {});\n",
              "      } catch (error) {\n",
              "        console.error('Error during call to suggestCharts:', error);\n",
              "      }\n",
              "      quickchartButtonEl.classList.remove('colab-df-spinner');\n",
              "      quickchartButtonEl.classList.add('colab-df-quickchart-complete');\n",
              "    }\n",
              "    (() => {\n",
              "      let quickchartButtonEl =\n",
              "        document.querySelector('#df-73c934d3-4c17-4b08-81fc-26a47ffb75cd button');\n",
              "      quickchartButtonEl.style.display =\n",
              "        google.colab.kernel.accessAllowed ? 'block' : 'none';\n",
              "    })();\n",
              "  </script>\n",
              "</div>\n",
              "\n",
              "    </div>\n",
              "  </div>\n"
            ],
            "application/vnd.google.colaboratory.intrinsic+json": {
              "type": "dataframe",
              "variable_name": "train_data"
            }
          },
          "metadata": {},
          "execution_count": 49
        }
      ]
    },
    {
      "cell_type": "code",
      "source": [
        "# Prepare X and y for both sets\n",
        "target_column = 'actual_performance(10'\n",
        "\n",
        "X_train = train_data.drop(columns=[target_column, 'datetime'])\n",
        "y_train = train_data[target_column]\n",
        "X_test = test_data.drop(columns=[target_column, 'datetime'])\n",
        "y_test = test_data[target_column]"
      ],
      "metadata": {
        "id": "pY5P4Y4p74xX"
      },
      "execution_count": null,
      "outputs": []
    },
    {
      "cell_type": "code",
      "source": [
        "X_train.head()"
      ],
      "metadata": {
        "colab": {
          "base_uri": "https://localhost:8080/",
          "height": 255
        },
        "id": "C6XGPQsnPFaJ",
        "outputId": "0d039291-987c-4403-b75e-3a21b99f45e9"
      },
      "execution_count": null,
      "outputs": [
        {
          "output_type": "execute_result",
          "data": {
            "text/plain": [
              "   year  month  day  hour  dayofweek  isweekend  isholiday  demand_lag_1h  \\\n",
              "0  2021      1    1     0          4          0          1            NaN   \n",
              "1  2021      1    1     1          4          0          1         1571.0   \n",
              "2  2021      1    1     2          4          0          1         1492.0   \n",
              "3  2021      1    1     3          4          0          1         1453.0   \n",
              "4  2021      1    1     4          4          0          1         1412.0   \n",
              "\n",
              "   demand_lag_2h  demand_lag_3h  ...  min_temperature  mean_humidity  \\\n",
              "0            NaN            NaN  ...              2.1       1.700000   \n",
              "1            NaN            NaN  ...              1.5       1.900000   \n",
              "2         1571.0            NaN  ...              0.9       1.928571   \n",
              "3         1492.0         1571.0  ...              1.8       1.628571   \n",
              "4         1453.0         1492.0  ...              2.3       1.871429   \n",
              "\n",
              "   max_humidity  min_humidity  mean_wind_speed  max_wind_speed  \\\n",
              "0           3.7          -0.3         0.142857             1.0   \n",
              "1           4.1          -0.2         0.285714             2.0   \n",
              "2           4.0           0.0         0.000000             0.0   \n",
              "3           4.1          -0.8         0.285714             2.0   \n",
              "4           4.6           0.0         0.000000             0.0   \n",
              "\n",
              "   min_wind_speed  mean_precipitation  max_precipitation  min_precipitation  \n",
              "0             0.0           -3.328571               -0.4               -5.0  \n",
              "1             0.0           -3.271429               -0.3               -4.9  \n",
              "2             0.0           -3.557143                0.0               -5.0  \n",
              "3             0.0           -3.400000                0.1               -4.7  \n",
              "4             0.0           -2.971429                0.2               -4.6  \n",
              "\n",
              "[5 rows x 38 columns]"
            ],
            "text/html": [
              "\n",
              "  <div id=\"df-7594af82-4fef-4d0e-9fa2-0a61e3c1592b\" class=\"colab-df-container\">\n",
              "    <div>\n",
              "<style scoped>\n",
              "    .dataframe tbody tr th:only-of-type {\n",
              "        vertical-align: middle;\n",
              "    }\n",
              "\n",
              "    .dataframe tbody tr th {\n",
              "        vertical-align: top;\n",
              "    }\n",
              "\n",
              "    .dataframe thead th {\n",
              "        text-align: right;\n",
              "    }\n",
              "</style>\n",
              "<table border=\"1\" class=\"dataframe\">\n",
              "  <thead>\n",
              "    <tr style=\"text-align: right;\">\n",
              "      <th></th>\n",
              "      <th>year</th>\n",
              "      <th>month</th>\n",
              "      <th>day</th>\n",
              "      <th>hour</th>\n",
              "      <th>dayofweek</th>\n",
              "      <th>isweekend</th>\n",
              "      <th>isholiday</th>\n",
              "      <th>demand_lag_1h</th>\n",
              "      <th>demand_lag_2h</th>\n",
              "      <th>demand_lag_3h</th>\n",
              "      <th>...</th>\n",
              "      <th>min_temperature</th>\n",
              "      <th>mean_humidity</th>\n",
              "      <th>max_humidity</th>\n",
              "      <th>min_humidity</th>\n",
              "      <th>mean_wind_speed</th>\n",
              "      <th>max_wind_speed</th>\n",
              "      <th>min_wind_speed</th>\n",
              "      <th>mean_precipitation</th>\n",
              "      <th>max_precipitation</th>\n",
              "      <th>min_precipitation</th>\n",
              "    </tr>\n",
              "  </thead>\n",
              "  <tbody>\n",
              "    <tr>\n",
              "      <th>0</th>\n",
              "      <td>2021</td>\n",
              "      <td>1</td>\n",
              "      <td>1</td>\n",
              "      <td>0</td>\n",
              "      <td>4</td>\n",
              "      <td>0</td>\n",
              "      <td>1</td>\n",
              "      <td>NaN</td>\n",
              "      <td>NaN</td>\n",
              "      <td>NaN</td>\n",
              "      <td>...</td>\n",
              "      <td>2.1</td>\n",
              "      <td>1.700000</td>\n",
              "      <td>3.7</td>\n",
              "      <td>-0.3</td>\n",
              "      <td>0.142857</td>\n",
              "      <td>1.0</td>\n",
              "      <td>0.0</td>\n",
              "      <td>-3.328571</td>\n",
              "      <td>-0.4</td>\n",
              "      <td>-5.0</td>\n",
              "    </tr>\n",
              "    <tr>\n",
              "      <th>1</th>\n",
              "      <td>2021</td>\n",
              "      <td>1</td>\n",
              "      <td>1</td>\n",
              "      <td>1</td>\n",
              "      <td>4</td>\n",
              "      <td>0</td>\n",
              "      <td>1</td>\n",
              "      <td>1571.0</td>\n",
              "      <td>NaN</td>\n",
              "      <td>NaN</td>\n",
              "      <td>...</td>\n",
              "      <td>1.5</td>\n",
              "      <td>1.900000</td>\n",
              "      <td>4.1</td>\n",
              "      <td>-0.2</td>\n",
              "      <td>0.285714</td>\n",
              "      <td>2.0</td>\n",
              "      <td>0.0</td>\n",
              "      <td>-3.271429</td>\n",
              "      <td>-0.3</td>\n",
              "      <td>-4.9</td>\n",
              "    </tr>\n",
              "    <tr>\n",
              "      <th>2</th>\n",
              "      <td>2021</td>\n",
              "      <td>1</td>\n",
              "      <td>1</td>\n",
              "      <td>2</td>\n",
              "      <td>4</td>\n",
              "      <td>0</td>\n",
              "      <td>1</td>\n",
              "      <td>1492.0</td>\n",
              "      <td>1571.0</td>\n",
              "      <td>NaN</td>\n",
              "      <td>...</td>\n",
              "      <td>0.9</td>\n",
              "      <td>1.928571</td>\n",
              "      <td>4.0</td>\n",
              "      <td>0.0</td>\n",
              "      <td>0.000000</td>\n",
              "      <td>0.0</td>\n",
              "      <td>0.0</td>\n",
              "      <td>-3.557143</td>\n",
              "      <td>0.0</td>\n",
              "      <td>-5.0</td>\n",
              "    </tr>\n",
              "    <tr>\n",
              "      <th>3</th>\n",
              "      <td>2021</td>\n",
              "      <td>1</td>\n",
              "      <td>1</td>\n",
              "      <td>3</td>\n",
              "      <td>4</td>\n",
              "      <td>0</td>\n",
              "      <td>1</td>\n",
              "      <td>1453.0</td>\n",
              "      <td>1492.0</td>\n",
              "      <td>1571.0</td>\n",
              "      <td>...</td>\n",
              "      <td>1.8</td>\n",
              "      <td>1.628571</td>\n",
              "      <td>4.1</td>\n",
              "      <td>-0.8</td>\n",
              "      <td>0.285714</td>\n",
              "      <td>2.0</td>\n",
              "      <td>0.0</td>\n",
              "      <td>-3.400000</td>\n",
              "      <td>0.1</td>\n",
              "      <td>-4.7</td>\n",
              "    </tr>\n",
              "    <tr>\n",
              "      <th>4</th>\n",
              "      <td>2021</td>\n",
              "      <td>1</td>\n",
              "      <td>1</td>\n",
              "      <td>4</td>\n",
              "      <td>4</td>\n",
              "      <td>0</td>\n",
              "      <td>1</td>\n",
              "      <td>1412.0</td>\n",
              "      <td>1453.0</td>\n",
              "      <td>1492.0</td>\n",
              "      <td>...</td>\n",
              "      <td>2.3</td>\n",
              "      <td>1.871429</td>\n",
              "      <td>4.6</td>\n",
              "      <td>0.0</td>\n",
              "      <td>0.000000</td>\n",
              "      <td>0.0</td>\n",
              "      <td>0.0</td>\n",
              "      <td>-2.971429</td>\n",
              "      <td>0.2</td>\n",
              "      <td>-4.6</td>\n",
              "    </tr>\n",
              "  </tbody>\n",
              "</table>\n",
              "<p>5 rows × 38 columns</p>\n",
              "</div>\n",
              "    <div class=\"colab-df-buttons\">\n",
              "\n",
              "  <div class=\"colab-df-container\">\n",
              "    <button class=\"colab-df-convert\" onclick=\"convertToInteractive('df-7594af82-4fef-4d0e-9fa2-0a61e3c1592b')\"\n",
              "            title=\"Convert this dataframe to an interactive table.\"\n",
              "            style=\"display:none;\">\n",
              "\n",
              "  <svg xmlns=\"http://www.w3.org/2000/svg\" height=\"24px\" viewBox=\"0 -960 960 960\">\n",
              "    <path d=\"M120-120v-720h720v720H120Zm60-500h600v-160H180v160Zm220 220h160v-160H400v160Zm0 220h160v-160H400v160ZM180-400h160v-160H180v160Zm440 0h160v-160H620v160ZM180-180h160v-160H180v160Zm440 0h160v-160H620v160Z\"/>\n",
              "  </svg>\n",
              "    </button>\n",
              "\n",
              "  <style>\n",
              "    .colab-df-container {\n",
              "      display:flex;\n",
              "      gap: 12px;\n",
              "    }\n",
              "\n",
              "    .colab-df-convert {\n",
              "      background-color: #E8F0FE;\n",
              "      border: none;\n",
              "      border-radius: 50%;\n",
              "      cursor: pointer;\n",
              "      display: none;\n",
              "      fill: #1967D2;\n",
              "      height: 32px;\n",
              "      padding: 0 0 0 0;\n",
              "      width: 32px;\n",
              "    }\n",
              "\n",
              "    .colab-df-convert:hover {\n",
              "      background-color: #E2EBFA;\n",
              "      box-shadow: 0px 1px 2px rgba(60, 64, 67, 0.3), 0px 1px 3px 1px rgba(60, 64, 67, 0.15);\n",
              "      fill: #174EA6;\n",
              "    }\n",
              "\n",
              "    .colab-df-buttons div {\n",
              "      margin-bottom: 4px;\n",
              "    }\n",
              "\n",
              "    [theme=dark] .colab-df-convert {\n",
              "      background-color: #3B4455;\n",
              "      fill: #D2E3FC;\n",
              "    }\n",
              "\n",
              "    [theme=dark] .colab-df-convert:hover {\n",
              "      background-color: #434B5C;\n",
              "      box-shadow: 0px 1px 3px 1px rgba(0, 0, 0, 0.15);\n",
              "      filter: drop-shadow(0px 1px 2px rgba(0, 0, 0, 0.3));\n",
              "      fill: #FFFFFF;\n",
              "    }\n",
              "  </style>\n",
              "\n",
              "    <script>\n",
              "      const buttonEl =\n",
              "        document.querySelector('#df-7594af82-4fef-4d0e-9fa2-0a61e3c1592b button.colab-df-convert');\n",
              "      buttonEl.style.display =\n",
              "        google.colab.kernel.accessAllowed ? 'block' : 'none';\n",
              "\n",
              "      async function convertToInteractive(key) {\n",
              "        const element = document.querySelector('#df-7594af82-4fef-4d0e-9fa2-0a61e3c1592b');\n",
              "        const dataTable =\n",
              "          await google.colab.kernel.invokeFunction('convertToInteractive',\n",
              "                                                    [key], {});\n",
              "        if (!dataTable) return;\n",
              "\n",
              "        const docLinkHtml = 'Like what you see? Visit the ' +\n",
              "          '<a target=\"_blank\" href=https://colab.research.google.com/notebooks/data_table.ipynb>data table notebook</a>'\n",
              "          + ' to learn more about interactive tables.';\n",
              "        element.innerHTML = '';\n",
              "        dataTable['output_type'] = 'display_data';\n",
              "        await google.colab.output.renderOutput(dataTable, element);\n",
              "        const docLink = document.createElement('div');\n",
              "        docLink.innerHTML = docLinkHtml;\n",
              "        element.appendChild(docLink);\n",
              "      }\n",
              "    </script>\n",
              "  </div>\n",
              "\n",
              "\n",
              "<div id=\"df-c6774d39-57ed-4348-bc19-a33310305c5f\">\n",
              "  <button class=\"colab-df-quickchart\" onclick=\"quickchart('df-c6774d39-57ed-4348-bc19-a33310305c5f')\"\n",
              "            title=\"Suggest charts\"\n",
              "            style=\"display:none;\">\n",
              "\n",
              "<svg xmlns=\"http://www.w3.org/2000/svg\" height=\"24px\"viewBox=\"0 0 24 24\"\n",
              "     width=\"24px\">\n",
              "    <g>\n",
              "        <path d=\"M19 3H5c-1.1 0-2 .9-2 2v14c0 1.1.9 2 2 2h14c1.1 0 2-.9 2-2V5c0-1.1-.9-2-2-2zM9 17H7v-7h2v7zm4 0h-2V7h2v10zm4 0h-2v-4h2v4z\"/>\n",
              "    </g>\n",
              "</svg>\n",
              "  </button>\n",
              "\n",
              "<style>\n",
              "  .colab-df-quickchart {\n",
              "      --bg-color: #E8F0FE;\n",
              "      --fill-color: #1967D2;\n",
              "      --hover-bg-color: #E2EBFA;\n",
              "      --hover-fill-color: #174EA6;\n",
              "      --disabled-fill-color: #AAA;\n",
              "      --disabled-bg-color: #DDD;\n",
              "  }\n",
              "\n",
              "  [theme=dark] .colab-df-quickchart {\n",
              "      --bg-color: #3B4455;\n",
              "      --fill-color: #D2E3FC;\n",
              "      --hover-bg-color: #434B5C;\n",
              "      --hover-fill-color: #FFFFFF;\n",
              "      --disabled-bg-color: #3B4455;\n",
              "      --disabled-fill-color: #666;\n",
              "  }\n",
              "\n",
              "  .colab-df-quickchart {\n",
              "    background-color: var(--bg-color);\n",
              "    border: none;\n",
              "    border-radius: 50%;\n",
              "    cursor: pointer;\n",
              "    display: none;\n",
              "    fill: var(--fill-color);\n",
              "    height: 32px;\n",
              "    padding: 0;\n",
              "    width: 32px;\n",
              "  }\n",
              "\n",
              "  .colab-df-quickchart:hover {\n",
              "    background-color: var(--hover-bg-color);\n",
              "    box-shadow: 0 1px 2px rgba(60, 64, 67, 0.3), 0 1px 3px 1px rgba(60, 64, 67, 0.15);\n",
              "    fill: var(--button-hover-fill-color);\n",
              "  }\n",
              "\n",
              "  .colab-df-quickchart-complete:disabled,\n",
              "  .colab-df-quickchart-complete:disabled:hover {\n",
              "    background-color: var(--disabled-bg-color);\n",
              "    fill: var(--disabled-fill-color);\n",
              "    box-shadow: none;\n",
              "  }\n",
              "\n",
              "  .colab-df-spinner {\n",
              "    border: 2px solid var(--fill-color);\n",
              "    border-color: transparent;\n",
              "    border-bottom-color: var(--fill-color);\n",
              "    animation:\n",
              "      spin 1s steps(1) infinite;\n",
              "  }\n",
              "\n",
              "  @keyframes spin {\n",
              "    0% {\n",
              "      border-color: transparent;\n",
              "      border-bottom-color: var(--fill-color);\n",
              "      border-left-color: var(--fill-color);\n",
              "    }\n",
              "    20% {\n",
              "      border-color: transparent;\n",
              "      border-left-color: var(--fill-color);\n",
              "      border-top-color: var(--fill-color);\n",
              "    }\n",
              "    30% {\n",
              "      border-color: transparent;\n",
              "      border-left-color: var(--fill-color);\n",
              "      border-top-color: var(--fill-color);\n",
              "      border-right-color: var(--fill-color);\n",
              "    }\n",
              "    40% {\n",
              "      border-color: transparent;\n",
              "      border-right-color: var(--fill-color);\n",
              "      border-top-color: var(--fill-color);\n",
              "    }\n",
              "    60% {\n",
              "      border-color: transparent;\n",
              "      border-right-color: var(--fill-color);\n",
              "    }\n",
              "    80% {\n",
              "      border-color: transparent;\n",
              "      border-right-color: var(--fill-color);\n",
              "      border-bottom-color: var(--fill-color);\n",
              "    }\n",
              "    90% {\n",
              "      border-color: transparent;\n",
              "      border-bottom-color: var(--fill-color);\n",
              "    }\n",
              "  }\n",
              "</style>\n",
              "\n",
              "  <script>\n",
              "    async function quickchart(key) {\n",
              "      const quickchartButtonEl =\n",
              "        document.querySelector('#' + key + ' button');\n",
              "      quickchartButtonEl.disabled = true;  // To prevent multiple clicks.\n",
              "      quickchartButtonEl.classList.add('colab-df-spinner');\n",
              "      try {\n",
              "        const charts = await google.colab.kernel.invokeFunction(\n",
              "            'suggestCharts', [key], {});\n",
              "      } catch (error) {\n",
              "        console.error('Error during call to suggestCharts:', error);\n",
              "      }\n",
              "      quickchartButtonEl.classList.remove('colab-df-spinner');\n",
              "      quickchartButtonEl.classList.add('colab-df-quickchart-complete');\n",
              "    }\n",
              "    (() => {\n",
              "      let quickchartButtonEl =\n",
              "        document.querySelector('#df-c6774d39-57ed-4348-bc19-a33310305c5f button');\n",
              "      quickchartButtonEl.style.display =\n",
              "        google.colab.kernel.accessAllowed ? 'block' : 'none';\n",
              "    })();\n",
              "  </script>\n",
              "</div>\n",
              "\n",
              "    </div>\n",
              "  </div>\n"
            ],
            "application/vnd.google.colaboratory.intrinsic+json": {
              "type": "dataframe",
              "variable_name": "X_train"
            }
          },
          "metadata": {},
          "execution_count": 51
        }
      ]
    },
    {
      "cell_type": "markdown",
      "source": [
        "**Feature Scaling Implementation**"
      ],
      "metadata": {
        "id": "SwCporulBsNt"
      }
    },
    {
      "cell_type": "markdown",
      "source": [
        "Feature scaling is a crucial preprocessing step in our modeling pipeline for several reasons:\n",
        "\n",
        "1. **Different Scales of Features**:\n",
        "   - Temperature might range from 0-40°C\n",
        "   - Humidity ranges from 0-100%\n",
        "   - Wind speed and precipitation have their own distinct scales\n",
        "   - Time-based features (hour, day, month) have different ranges\n",
        "\n",
        "2. **Model Performance Impact**:\n",
        "   - Many machine learning algorithms are sensitive to feature scales\n",
        "   - Unscaled features can lead to:\n",
        "     - Biased importance of features with larger ranges\n",
        "     - Slower convergence during training\n",
        "     - Poor model performance"
      ],
      "metadata": {
        "id": "EmVyn2bhBx8q"
      }
    },
    {
      "cell_type": "code",
      "source": [
        "def scale_features(X_train, X_test):\n",
        "  \"\"\"Scale features using StandardScaler\"\"\"\n",
        "  scaler = StandardScaler()\n",
        "  X_train_scaled = scaler.fit_transform(X_train)\n",
        "  X_test_scaled = scaler.transform(X_test)\n",
        "\n",
        "  # Convert back to DataFrame to keep feature names\n",
        "  X_train_scaled = pd.DataFrame(X_train_scaled, columns=X_train.columns, index=X_train.index)\n",
        "  X_test_scaled = pd.DataFrame(X_test_scaled, columns=X_test.columns, index=X_test.index)\n",
        "\n",
        "  return X_train_scaled, X_test_scaled, scaler"
      ],
      "metadata": {
        "id": "jFqDJmlbMcfL"
      },
      "execution_count": null,
      "outputs": []
    },
    {
      "cell_type": "code",
      "source": [
        "# Filling null values with 0\n",
        "X_train = X_train.fillna(0)\n",
        "X_test = X_test.fillna(0)"
      ],
      "metadata": {
        "id": "EkS_7lnAOvml"
      },
      "execution_count": null,
      "outputs": []
    },
    {
      "cell_type": "code",
      "source": [
        "X_train.isnull().sum().sum()"
      ],
      "metadata": {
        "colab": {
          "base_uri": "https://localhost:8080/"
        },
        "id": "Y__GVj0qO0bC",
        "outputId": "34a155bb-b509-4fe6-b7b1-db00feaa6a0b"
      },
      "execution_count": null,
      "outputs": [
        {
          "output_type": "execute_result",
          "data": {
            "text/plain": [
              "0"
            ]
          },
          "metadata": {},
          "execution_count": 54
        }
      ]
    },
    {
      "cell_type": "code",
      "source": [
        "X_train_scaled, X_test_scaled, _ = scale_features(X_train, X_test)"
      ],
      "metadata": {
        "id": "9sWt2ABjM07B"
      },
      "execution_count": null,
      "outputs": []
    },
    {
      "cell_type": "code",
      "source": [],
      "metadata": {
        "id": "y4ofRLzKSbNY"
      },
      "execution_count": null,
      "outputs": []
    },
    {
      "cell_type": "markdown",
      "source": [
        "## **Model Development**"
      ],
      "metadata": {
        "id": "56I_S_IdScJE"
      }
    },
    {
      "cell_type": "markdown",
      "source": [
        "**Choice of Method**\n",
        "\n",
        "The implementation uses an ensemble approach with three different models:\n",
        "\n",
        "- **Random Forest Regressor**\n",
        "- **Gradient Boosting Regressor**\n",
        "- **LightGBM Regressor**\n",
        "\n",
        "This combination was chosen for several key reasons:\n",
        "\n",
        "1. **Robustness:** Tree-based ensemble methods are particularly well-suited for handling non-linear relationships in time series data\n",
        "2. **Feature Importance:** All three models provide built-in feature importance metrics, enabling better model interpretability\n",
        "3. **Handling Missing Values:** The models can handle missing values and different scales of features effectively\n",
        "4. **Computational Efficiency:** Particularly with LightGBM, which is optimized for large-scale data"
      ],
      "metadata": {
        "id": "v0wOrqkgCI8b"
      }
    },
    {
      "cell_type": "code",
      "source": [
        "def train_models(X_train, y_train):\n",
        "  \"\"\"Train multiple models\"\"\"\n",
        "  models = {\n",
        "      'rf': RandomForestRegressor(n_estimators=100, random_state=42),\n",
        "      'gbm': GradientBoostingRegressor(n_estimators=100, random_state=42),\n",
        "      'lgbm': LGBMRegressor(n_estimators=100, random_state=42)\n",
        "  }\n",
        "\n",
        "  for name, model in models.items():\n",
        "      print(f\"\\nTraining {name}...\")\n",
        "      model.fit(X_train, y_train)\n",
        "      print(f\"{name} trained.\")\n",
        "\n",
        "  return models"
      ],
      "metadata": {
        "id": "WNJTcLiQNK1j"
      },
      "execution_count": null,
      "outputs": []
    },
    {
      "cell_type": "code",
      "source": [
        "# Train the models and store them\n",
        "trained_models = train_models(X_train_scaled, y_train)"
      ],
      "metadata": {
        "colab": {
          "base_uri": "https://localhost:8080/"
        },
        "id": "4CD1tgebQJLl",
        "outputId": "15fffdf3-3aa3-4387-df91-0ceccb11dc6a"
      },
      "execution_count": null,
      "outputs": [
        {
          "output_type": "stream",
          "name": "stdout",
          "text": [
            "\n",
            "Training rf...\n",
            "rf trained.\n",
            "\n",
            "Training gbm...\n",
            "gbm trained.\n",
            "\n",
            "Training lgbm...\n",
            "[LightGBM] [Info] Auto-choosing row-wise multi-threading, the overhead of testing was 0.002937 seconds.\n",
            "You can set `force_row_wise=true` to remove the overhead.\n",
            "And if memory is not enough, you can set `force_col_wise=true`.\n",
            "[LightGBM] [Info] Total Bins 6923\n",
            "[LightGBM] [Info] Number of data points in the train set: 17520, number of used features: 37\n",
            "[LightGBM] [Info] Start training from score 1628.918664\n",
            "lgbm trained.\n"
          ]
        }
      ]
    },
    {
      "cell_type": "code",
      "source": [],
      "metadata": {
        "id": "6hpQox2CU4mM"
      },
      "execution_count": null,
      "outputs": []
    },
    {
      "cell_type": "markdown",
      "source": [
        "## **Evaluation of Forecasting Performance Using Actual Data**"
      ],
      "metadata": {
        "id": "7b7Z4xSwU5Ic"
      }
    },
    {
      "cell_type": "markdown",
      "source": [
        "**Selected Evaluation Metrics**\n",
        "\n",
        "The model implementation uses three primary metrics:\n",
        "\n",
        "1. **Root Mean Square Error (RMSE)**\n",
        "\n",
        "   - Measures the standard deviation of prediction errors\n",
        "   - Penalizes larger errors more heavily\n",
        "   - Useful for comparing models on the same scale\n",
        "\n",
        "\n",
        "2. **Mean Absolute Error (MAE)**\n",
        "\n",
        "   - Provides average magnitude of errors in the same unit as the target\n",
        "   - Less sensitive to outliers than RMSE\n",
        "   - More interpretable for stakeholders\n",
        "\n",
        "\n",
        "3. **Mean Absolute Percentage Error (MAPE)**\n",
        "\n",
        "   - Scale-independent metric\n",
        "   - Enables comparison across different scales\n",
        "   - Easily interpretable as a percentage"
      ],
      "metadata": {
        "id": "yisTJwMrC9Ja"
      }
    },
    {
      "cell_type": "code",
      "source": [
        "def evaluate_models(models, X_test, y_test):\n",
        "    \"\"\"Evaluate models using multiple metrics\"\"\"\n",
        "    results = {}\n",
        "\n",
        "    for name, model in models.items():\n",
        "        predictions = model.predict(X_test)\n",
        "\n",
        "        # Calculate metrics\n",
        "        rmse = np.sqrt(mean_squared_error(y_test, predictions))\n",
        "        mae = mean_absolute_error(y_test, predictions)\n",
        "        mape = np.mean(np.abs((y_test - predictions) / y_test)) * 100\n",
        "\n",
        "        results[name] = {\n",
        "            'RMSE': rmse,\n",
        "            'MAE': mae,\n",
        "            'MAPE': mape\n",
        "        }\n",
        "\n",
        "        print(f\"\\n{name.upper()} Results:\")\n",
        "        print(f\"RMSE: {rmse:.2f}\")\n",
        "        print(f\"MAE: {mae:.2f}\")\n",
        "        print(f\"MAPE: {mape:.2f}%\")\n",
        "\n",
        "    return results"
      ],
      "metadata": {
        "id": "GssnVKxDQdQg"
      },
      "execution_count": null,
      "outputs": []
    },
    {
      "cell_type": "code",
      "source": [
        "# Evaluate the trained models\n",
        "results = evaluate_models(trained_models, X_test_scaled, y_test)"
      ],
      "metadata": {
        "colab": {
          "base_uri": "https://localhost:8080/"
        },
        "id": "ExHM8EzoTYEY",
        "outputId": "b72e3baa-3a0b-4ba4-fa5e-61a358467322"
      },
      "execution_count": null,
      "outputs": [
        {
          "output_type": "stream",
          "name": "stdout",
          "text": [
            "\n",
            "RF Results:\n",
            "RMSE: 25.86\n",
            "MAE: 18.48\n",
            "MAPE: 1.15%\n",
            "\n",
            "GBM Results:\n",
            "RMSE: 33.33\n",
            "MAE: 25.02\n",
            "MAPE: 1.59%\n",
            "\n",
            "LGBM Results:\n",
            "RMSE: 22.17\n",
            "MAE: 16.39\n",
            "MAPE: 1.03%\n"
          ]
        }
      ]
    },
    {
      "cell_type": "markdown",
      "source": [
        "## **Error Analysis and Model Challenges**"
      ],
      "metadata": {
        "id": "iHEoFeG6FMub"
      }
    },
    {
      "cell_type": "markdown",
      "source": [
        "**Comparative Analysis**\n",
        "\n",
        "1. **Best Performing Model: LightGBM**\n",
        "   - Lowest error across all metrics\n",
        "   - 14% improvement in RMSE over Random Forest\n",
        "   - 33% improvement in RMSE over GBM\n",
        "   - Demonstrates superior accuracy with MAPE just above 1%\n",
        "\n",
        "2. **Model Rankings (from best to worst)**:\n",
        "   1. LightGBM\n",
        "   2. Random Forest\n",
        "   3. Gradient Boosting Machine\n"
      ],
      "metadata": {
        "id": "FkbEvsptESrN"
      }
    },
    {
      "cell_type": "markdown",
      "source": [
        "**Error Metric Interpretation**\n",
        "\n",
        "1. **RMSE (Root Mean Square Error)**:\n",
        "   - Penalizes larger errors more heavily\n",
        "   - LGBM's RMSE of 22.17 indicates better handling of outliers\n",
        "   - Higher RMSE in GBM (33.33) suggests more significant prediction errors\n",
        "\n",
        "2. **MAE (Mean Absolute Error)**:\n",
        "   - Represents average absolute prediction error\n",
        "   - LGBM's MAE of 16.39 shows strong general prediction accuracy\n",
        "   - Consistent pattern with RMSE rankings\n",
        "\n",
        "3. **MAPE (Mean Absolute Percentage Error)**:\n",
        "   - All models achieve impressive MAPE < 2%\n",
        "   - LGBM's 1.03% MAPE indicates highly accurate predictions\n",
        "   - Even worst-performing GBM maintains reasonable 1.59% MAPE"
      ],
      "metadata": {
        "id": "TWPuZ-XeEnkJ"
      }
    },
    {
      "cell_type": "markdown",
      "source": [
        "**Key Findings**\n",
        "\n",
        "1. **Model Stability**:\n",
        "   - Consistent performance ranking across all metrics\n",
        "   - Small MAPE values indicate reliable percentage-wise predictions\n",
        "   - All models demonstrate production-grade accuracy\n",
        "\n",
        "2. **Error Patterns**:\n",
        "   - Relatively small gap between MAE and RMSE suggests consistent errors\n",
        "   - Low MAPE values indicate good handling of different demand scales\n",
        "   - Models perform well across the demand range\n",
        "\n",
        "3. **Practical Implications**:\n",
        "   - All models suitable for production use\n",
        "   - LGBM recommended as primary model\n",
        "   - RF could serve as a reliable backup model"
      ],
      "metadata": {
        "id": "ZmG_YCAPEq6L"
      }
    },
    {
      "cell_type": "markdown",
      "source": [
        "**Recommendations**\n",
        "\n",
        "1. **Model Selection**:\n",
        "   - Implement LGBM as the primary forecasting model\n",
        "   - Consider ensemble approach with RF for robust predictions\n",
        "   - Use GBM as benchmark for future improvements\n",
        "\n",
        "2. **Error Monitoring**:\n",
        "   - Track MAPE as primary KPI\n",
        "   - Monitor RMSE for outlier detection\n",
        "   - Use MAE for straightforward error communication"
      ],
      "metadata": {
        "id": "KwMX6dGDEvOw"
      }
    },
    {
      "cell_type": "code",
      "source": [
        "def analyze_errors_by_period(models, X_test, y_test, model_name='lgbm'):\n",
        "    \"\"\"Analyze errors by different time periods\"\"\"\n",
        "    model = models[model_name]\n",
        "    predictions = model.predict(X_test)\n",
        "\n",
        "    # Create DataFrame with actual, predicted, and datetime\n",
        "    error_df = pd.DataFrame({\n",
        "        'datetime': df[df['datetime'] >= '2023-01-01']['datetime'].values,\n",
        "        'actual': y_test,\n",
        "        'predicted': predictions,\n",
        "        'error': np.abs(y_test - predictions)\n",
        "    })\n",
        "\n",
        "    # Analyze errors by month\n",
        "    monthly_errors = error_df.set_index('datetime').resample('M')['error'].agg(['mean', 'std'])\n",
        "    print(\"\\nMonthly Error Analysis:\")\n",
        "    print(monthly_errors)\n",
        "\n",
        "    # Analyze errors by day of the week\n",
        "    error_df['dayofweek'] = error_df['datetime'].dt.dayofweek\n",
        "    dow_errors = error_df.groupby('dayofweek')['error'].agg(['mean', 'std'])\n",
        "    print(\"\\nDay of Week Error Analysis:\")\n",
        "    print(dow_errors)\n",
        "\n",
        "    # Analyze errors by hour\n",
        "    error_df['hour'] = error_df['datetime'].dt.hour\n",
        "    hourly_errors = error_df.groupby('hour')['error'].agg(['mean', 'std'])\n",
        "    print(\"\\nHourly Error Analysis:\")\n",
        "    print(hourly_errors)\n",
        "\n",
        "    return error_df"
      ],
      "metadata": {
        "id": "FEKXWxuFR4ho"
      },
      "execution_count": null,
      "outputs": []
    },
    {
      "cell_type": "code",
      "source": [
        "# Analyze errors by period\n",
        "error_analysis = analyze_errors_by_period(trained_models, X_test_scaled, y_test)"
      ],
      "metadata": {
        "colab": {
          "base_uri": "https://localhost:8080/"
        },
        "id": "en5mZT4HWDFB",
        "outputId": "d9d6482e-5cee-48df-ae30-277acbc0a0db"
      },
      "execution_count": null,
      "outputs": [
        {
          "output_type": "stream",
          "name": "stdout",
          "text": [
            "\n",
            "Monthly Error Analysis:\n",
            "                 mean        std\n",
            "datetime                        \n",
            "2023-01-31  18.057660  15.414710\n",
            "2023-02-28  17.129730  13.996444\n",
            "2023-03-31  14.866563  12.747167\n",
            "2023-04-30  13.987256  11.614168\n",
            "2023-05-31  15.882777  13.911732\n",
            "2023-06-30  13.761630  12.459419\n",
            "2023-07-31  17.817527  17.371152\n",
            "2023-08-31  23.115691  22.944355\n",
            "2023-09-30  17.862426  15.257534\n",
            "2023-10-31  14.374238  12.233687\n",
            "2023-11-30  14.012055  11.836164\n",
            "2023-12-31  15.653182  12.690927\n",
            "\n",
            "Day of Week Error Analysis:\n",
            "                mean        std\n",
            "dayofweek                      \n",
            "0          17.842763  16.408487\n",
            "1          17.027211  15.511118\n",
            "2          16.884758  16.142128\n",
            "3          16.525161  15.943885\n",
            "4          16.393537  15.205685\n",
            "5          14.914487  12.550100\n",
            "6          15.142615  11.985502\n",
            "\n",
            "Hourly Error Analysis:\n",
            "           mean        std\n",
            "hour                      \n",
            "0     11.242559   8.402345\n",
            "1     11.347052  10.002233\n",
            "2     12.033936  10.303046\n",
            "3     11.083243   9.242318\n",
            "4      9.800280   8.021248\n",
            "5     13.390350  10.173903\n",
            "6     16.400654  13.971223\n",
            "7     21.670769  16.260039\n",
            "8     23.410530  20.056498\n",
            "9     21.514789  17.682502\n",
            "10    22.539168  17.331058\n",
            "11    18.200869  15.579647\n",
            "12    23.490470  17.185013\n",
            "13    21.448800  16.457555\n",
            "14    20.400932  16.289282\n",
            "15    20.107598  19.699087\n",
            "16    17.107504  17.179121\n",
            "17    23.673282  20.208936\n",
            "18    18.564474  13.867316\n",
            "19    15.242342  10.658495\n",
            "20    10.098411   8.270337\n",
            "21    10.230228   8.275154\n",
            "22    10.847081   8.631839\n",
            "23     9.434477   7.610058\n"
          ]
        }
      ]
    },
    {
      "cell_type": "code",
      "source": [
        "error_analysis.head()"
      ],
      "metadata": {
        "colab": {
          "base_uri": "https://localhost:8080/",
          "height": 206
        },
        "id": "JKdKbrUhUh2D",
        "outputId": "e7e40eff-d8d3-482f-c547-8675f80885b9"
      },
      "execution_count": null,
      "outputs": [
        {
          "output_type": "execute_result",
          "data": {
            "text/plain": [
              "                 datetime  actual    predicted      error  dayofweek  hour\n",
              "17520 2023-01-01 00:00:00    1380  1378.412602   1.587398          6     0\n",
              "17521 2023-01-01 01:00:00    1331  1344.203343  13.203343          6     1\n",
              "17522 2023-01-01 02:00:00    1327  1340.439542  13.439542          6     2\n",
              "17523 2023-01-01 03:00:00    1310  1341.870438  31.870438          6     3\n",
              "17524 2023-01-01 04:00:00    1267  1302.880674  35.880674          6     4"
            ],
            "text/html": [
              "\n",
              "  <div id=\"df-569377d7-f365-4b85-b32f-6f0cbe99dd99\" class=\"colab-df-container\">\n",
              "    <div>\n",
              "<style scoped>\n",
              "    .dataframe tbody tr th:only-of-type {\n",
              "        vertical-align: middle;\n",
              "    }\n",
              "\n",
              "    .dataframe tbody tr th {\n",
              "        vertical-align: top;\n",
              "    }\n",
              "\n",
              "    .dataframe thead th {\n",
              "        text-align: right;\n",
              "    }\n",
              "</style>\n",
              "<table border=\"1\" class=\"dataframe\">\n",
              "  <thead>\n",
              "    <tr style=\"text-align: right;\">\n",
              "      <th></th>\n",
              "      <th>datetime</th>\n",
              "      <th>actual</th>\n",
              "      <th>predicted</th>\n",
              "      <th>error</th>\n",
              "      <th>dayofweek</th>\n",
              "      <th>hour</th>\n",
              "    </tr>\n",
              "  </thead>\n",
              "  <tbody>\n",
              "    <tr>\n",
              "      <th>17520</th>\n",
              "      <td>2023-01-01 00:00:00</td>\n",
              "      <td>1380</td>\n",
              "      <td>1378.412602</td>\n",
              "      <td>1.587398</td>\n",
              "      <td>6</td>\n",
              "      <td>0</td>\n",
              "    </tr>\n",
              "    <tr>\n",
              "      <th>17521</th>\n",
              "      <td>2023-01-01 01:00:00</td>\n",
              "      <td>1331</td>\n",
              "      <td>1344.203343</td>\n",
              "      <td>13.203343</td>\n",
              "      <td>6</td>\n",
              "      <td>1</td>\n",
              "    </tr>\n",
              "    <tr>\n",
              "      <th>17522</th>\n",
              "      <td>2023-01-01 02:00:00</td>\n",
              "      <td>1327</td>\n",
              "      <td>1340.439542</td>\n",
              "      <td>13.439542</td>\n",
              "      <td>6</td>\n",
              "      <td>2</td>\n",
              "    </tr>\n",
              "    <tr>\n",
              "      <th>17523</th>\n",
              "      <td>2023-01-01 03:00:00</td>\n",
              "      <td>1310</td>\n",
              "      <td>1341.870438</td>\n",
              "      <td>31.870438</td>\n",
              "      <td>6</td>\n",
              "      <td>3</td>\n",
              "    </tr>\n",
              "    <tr>\n",
              "      <th>17524</th>\n",
              "      <td>2023-01-01 04:00:00</td>\n",
              "      <td>1267</td>\n",
              "      <td>1302.880674</td>\n",
              "      <td>35.880674</td>\n",
              "      <td>6</td>\n",
              "      <td>4</td>\n",
              "    </tr>\n",
              "  </tbody>\n",
              "</table>\n",
              "</div>\n",
              "    <div class=\"colab-df-buttons\">\n",
              "\n",
              "  <div class=\"colab-df-container\">\n",
              "    <button class=\"colab-df-convert\" onclick=\"convertToInteractive('df-569377d7-f365-4b85-b32f-6f0cbe99dd99')\"\n",
              "            title=\"Convert this dataframe to an interactive table.\"\n",
              "            style=\"display:none;\">\n",
              "\n",
              "  <svg xmlns=\"http://www.w3.org/2000/svg\" height=\"24px\" viewBox=\"0 -960 960 960\">\n",
              "    <path d=\"M120-120v-720h720v720H120Zm60-500h600v-160H180v160Zm220 220h160v-160H400v160Zm0 220h160v-160H400v160ZM180-400h160v-160H180v160Zm440 0h160v-160H620v160ZM180-180h160v-160H180v160Zm440 0h160v-160H620v160Z\"/>\n",
              "  </svg>\n",
              "    </button>\n",
              "\n",
              "  <style>\n",
              "    .colab-df-container {\n",
              "      display:flex;\n",
              "      gap: 12px;\n",
              "    }\n",
              "\n",
              "    .colab-df-convert {\n",
              "      background-color: #E8F0FE;\n",
              "      border: none;\n",
              "      border-radius: 50%;\n",
              "      cursor: pointer;\n",
              "      display: none;\n",
              "      fill: #1967D2;\n",
              "      height: 32px;\n",
              "      padding: 0 0 0 0;\n",
              "      width: 32px;\n",
              "    }\n",
              "\n",
              "    .colab-df-convert:hover {\n",
              "      background-color: #E2EBFA;\n",
              "      box-shadow: 0px 1px 2px rgba(60, 64, 67, 0.3), 0px 1px 3px 1px rgba(60, 64, 67, 0.15);\n",
              "      fill: #174EA6;\n",
              "    }\n",
              "\n",
              "    .colab-df-buttons div {\n",
              "      margin-bottom: 4px;\n",
              "    }\n",
              "\n",
              "    [theme=dark] .colab-df-convert {\n",
              "      background-color: #3B4455;\n",
              "      fill: #D2E3FC;\n",
              "    }\n",
              "\n",
              "    [theme=dark] .colab-df-convert:hover {\n",
              "      background-color: #434B5C;\n",
              "      box-shadow: 0px 1px 3px 1px rgba(0, 0, 0, 0.15);\n",
              "      filter: drop-shadow(0px 1px 2px rgba(0, 0, 0, 0.3));\n",
              "      fill: #FFFFFF;\n",
              "    }\n",
              "  </style>\n",
              "\n",
              "    <script>\n",
              "      const buttonEl =\n",
              "        document.querySelector('#df-569377d7-f365-4b85-b32f-6f0cbe99dd99 button.colab-df-convert');\n",
              "      buttonEl.style.display =\n",
              "        google.colab.kernel.accessAllowed ? 'block' : 'none';\n",
              "\n",
              "      async function convertToInteractive(key) {\n",
              "        const element = document.querySelector('#df-569377d7-f365-4b85-b32f-6f0cbe99dd99');\n",
              "        const dataTable =\n",
              "          await google.colab.kernel.invokeFunction('convertToInteractive',\n",
              "                                                    [key], {});\n",
              "        if (!dataTable) return;\n",
              "\n",
              "        const docLinkHtml = 'Like what you see? Visit the ' +\n",
              "          '<a target=\"_blank\" href=https://colab.research.google.com/notebooks/data_table.ipynb>data table notebook</a>'\n",
              "          + ' to learn more about interactive tables.';\n",
              "        element.innerHTML = '';\n",
              "        dataTable['output_type'] = 'display_data';\n",
              "        await google.colab.output.renderOutput(dataTable, element);\n",
              "        const docLink = document.createElement('div');\n",
              "        docLink.innerHTML = docLinkHtml;\n",
              "        element.appendChild(docLink);\n",
              "      }\n",
              "    </script>\n",
              "  </div>\n",
              "\n",
              "\n",
              "<div id=\"df-7db307d6-3ca0-4749-94d8-39cdf84361b0\">\n",
              "  <button class=\"colab-df-quickchart\" onclick=\"quickchart('df-7db307d6-3ca0-4749-94d8-39cdf84361b0')\"\n",
              "            title=\"Suggest charts\"\n",
              "            style=\"display:none;\">\n",
              "\n",
              "<svg xmlns=\"http://www.w3.org/2000/svg\" height=\"24px\"viewBox=\"0 0 24 24\"\n",
              "     width=\"24px\">\n",
              "    <g>\n",
              "        <path d=\"M19 3H5c-1.1 0-2 .9-2 2v14c0 1.1.9 2 2 2h14c1.1 0 2-.9 2-2V5c0-1.1-.9-2-2-2zM9 17H7v-7h2v7zm4 0h-2V7h2v10zm4 0h-2v-4h2v4z\"/>\n",
              "    </g>\n",
              "</svg>\n",
              "  </button>\n",
              "\n",
              "<style>\n",
              "  .colab-df-quickchart {\n",
              "      --bg-color: #E8F0FE;\n",
              "      --fill-color: #1967D2;\n",
              "      --hover-bg-color: #E2EBFA;\n",
              "      --hover-fill-color: #174EA6;\n",
              "      --disabled-fill-color: #AAA;\n",
              "      --disabled-bg-color: #DDD;\n",
              "  }\n",
              "\n",
              "  [theme=dark] .colab-df-quickchart {\n",
              "      --bg-color: #3B4455;\n",
              "      --fill-color: #D2E3FC;\n",
              "      --hover-bg-color: #434B5C;\n",
              "      --hover-fill-color: #FFFFFF;\n",
              "      --disabled-bg-color: #3B4455;\n",
              "      --disabled-fill-color: #666;\n",
              "  }\n",
              "\n",
              "  .colab-df-quickchart {\n",
              "    background-color: var(--bg-color);\n",
              "    border: none;\n",
              "    border-radius: 50%;\n",
              "    cursor: pointer;\n",
              "    display: none;\n",
              "    fill: var(--fill-color);\n",
              "    height: 32px;\n",
              "    padding: 0;\n",
              "    width: 32px;\n",
              "  }\n",
              "\n",
              "  .colab-df-quickchart:hover {\n",
              "    background-color: var(--hover-bg-color);\n",
              "    box-shadow: 0 1px 2px rgba(60, 64, 67, 0.3), 0 1px 3px 1px rgba(60, 64, 67, 0.15);\n",
              "    fill: var(--button-hover-fill-color);\n",
              "  }\n",
              "\n",
              "  .colab-df-quickchart-complete:disabled,\n",
              "  .colab-df-quickchart-complete:disabled:hover {\n",
              "    background-color: var(--disabled-bg-color);\n",
              "    fill: var(--disabled-fill-color);\n",
              "    box-shadow: none;\n",
              "  }\n",
              "\n",
              "  .colab-df-spinner {\n",
              "    border: 2px solid var(--fill-color);\n",
              "    border-color: transparent;\n",
              "    border-bottom-color: var(--fill-color);\n",
              "    animation:\n",
              "      spin 1s steps(1) infinite;\n",
              "  }\n",
              "\n",
              "  @keyframes spin {\n",
              "    0% {\n",
              "      border-color: transparent;\n",
              "      border-bottom-color: var(--fill-color);\n",
              "      border-left-color: var(--fill-color);\n",
              "    }\n",
              "    20% {\n",
              "      border-color: transparent;\n",
              "      border-left-color: var(--fill-color);\n",
              "      border-top-color: var(--fill-color);\n",
              "    }\n",
              "    30% {\n",
              "      border-color: transparent;\n",
              "      border-left-color: var(--fill-color);\n",
              "      border-top-color: var(--fill-color);\n",
              "      border-right-color: var(--fill-color);\n",
              "    }\n",
              "    40% {\n",
              "      border-color: transparent;\n",
              "      border-right-color: var(--fill-color);\n",
              "      border-top-color: var(--fill-color);\n",
              "    }\n",
              "    60% {\n",
              "      border-color: transparent;\n",
              "      border-right-color: var(--fill-color);\n",
              "    }\n",
              "    80% {\n",
              "      border-color: transparent;\n",
              "      border-right-color: var(--fill-color);\n",
              "      border-bottom-color: var(--fill-color);\n",
              "    }\n",
              "    90% {\n",
              "      border-color: transparent;\n",
              "      border-bottom-color: var(--fill-color);\n",
              "    }\n",
              "  }\n",
              "</style>\n",
              "\n",
              "  <script>\n",
              "    async function quickchart(key) {\n",
              "      const quickchartButtonEl =\n",
              "        document.querySelector('#' + key + ' button');\n",
              "      quickchartButtonEl.disabled = true;  // To prevent multiple clicks.\n",
              "      quickchartButtonEl.classList.add('colab-df-spinner');\n",
              "      try {\n",
              "        const charts = await google.colab.kernel.invokeFunction(\n",
              "            'suggestCharts', [key], {});\n",
              "      } catch (error) {\n",
              "        console.error('Error during call to suggestCharts:', error);\n",
              "      }\n",
              "      quickchartButtonEl.classList.remove('colab-df-spinner');\n",
              "      quickchartButtonEl.classList.add('colab-df-quickchart-complete');\n",
              "    }\n",
              "    (() => {\n",
              "      let quickchartButtonEl =\n",
              "        document.querySelector('#df-7db307d6-3ca0-4749-94d8-39cdf84361b0 button');\n",
              "      quickchartButtonEl.style.display =\n",
              "        google.colab.kernel.accessAllowed ? 'block' : 'none';\n",
              "    })();\n",
              "  </script>\n",
              "</div>\n",
              "\n",
              "    </div>\n",
              "  </div>\n"
            ],
            "application/vnd.google.colaboratory.intrinsic+json": {
              "type": "dataframe",
              "variable_name": "error_analysis",
              "summary": "{\n  \"name\": \"error_analysis\",\n  \"rows\": 8760,\n  \"fields\": [\n    {\n      \"column\": \"datetime\",\n      \"properties\": {\n        \"dtype\": \"date\",\n        \"min\": \"2023-01-01 00:00:00\",\n        \"max\": \"2023-12-31 23:00:00\",\n        \"num_unique_values\": 8760,\n        \"samples\": [\n          \"2023-09-10 08:00:00\",\n          \"2023-08-20 12:00:00\",\n          \"2023-09-07 14:00:00\"\n        ],\n        \"semantic_type\": \"\",\n        \"description\": \"\"\n      }\n    },\n    {\n      \"column\": \"actual\",\n      \"properties\": {\n        \"dtype\": \"number\",\n        \"std\": 330,\n        \"min\": 955,\n        \"max\": 2709,\n        \"num_unique_values\": 1450,\n        \"samples\": [\n          2298,\n          1447,\n          1290\n        ],\n        \"semantic_type\": \"\",\n        \"description\": \"\"\n      }\n    },\n    {\n      \"column\": \"predicted\",\n      \"properties\": {\n        \"dtype\": \"number\",\n        \"std\": 332.31116708051417,\n        \"min\": 1008.5795741364334,\n        \"max\": 2700.0004687488176,\n        \"num_unique_values\": 8754,\n        \"samples\": [\n          1313.9541764791086,\n          2028.1405092958935,\n          1639.6231783966798\n        ],\n        \"semantic_type\": \"\",\n        \"description\": \"\"\n      }\n    },\n    {\n      \"column\": \"error\",\n      \"properties\": {\n        \"dtype\": \"number\",\n        \"std\": 14.932835695848608,\n        \"min\": 0.009733216811127932,\n        \"max\": 143.39373079912139,\n        \"num_unique_values\": 8759,\n        \"samples\": [\n          49.61428572841487,\n          22.724773216038102,\n          9.005303994009637\n        ],\n        \"semantic_type\": \"\",\n        \"description\": \"\"\n      }\n    },\n    {\n      \"column\": \"dayofweek\",\n      \"properties\": {\n        \"dtype\": \"int32\",\n        \"num_unique_values\": 7,\n        \"samples\": [\n          6,\n          0,\n          4\n        ],\n        \"semantic_type\": \"\",\n        \"description\": \"\"\n      }\n    },\n    {\n      \"column\": \"hour\",\n      \"properties\": {\n        \"dtype\": \"int32\",\n        \"num_unique_values\": 24,\n        \"samples\": [\n          8,\n          16,\n          0\n        ],\n        \"semantic_type\": \"\",\n        \"description\": \"\"\n      }\n    }\n  ]\n}"
            }
          },
          "metadata": {},
          "execution_count": 62
        }
      ]
    },
    {
      "cell_type": "code",
      "source": [
        "# Actual vs Predicted Time Series\n",
        "\n",
        "plt.figure(figsize=(15, 5))\n",
        "plt.plot(error_analysis['datetime'], error_analysis['actual'], label='Actual Demand', alpha=0.7)\n",
        "plt.plot(error_analysis['datetime'], error_analysis['predicted'], label='Predicted Demand', alpha=0.7)\n",
        "plt.title('Actual vs Predicted Electricity Demand')\n",
        "plt.xlabel('Time')\n",
        "plt.ylabel('Demand (MW)')\n",
        "plt.legend()\n",
        "plt.grid(True)\n",
        "plt.xticks(rotation=45)\n",
        "plt.tight_layout()\n",
        "plt.show()"
      ],
      "metadata": {
        "colab": {
          "base_uri": "https://localhost:8080/",
          "height": 482
        },
        "id": "eb327SM8U1uZ",
        "outputId": "1defe81d-f3fc-4482-841f-6d8459a2957b"
      },
      "execution_count": null,
      "outputs": [
        {
          "output_type": "display_data",
          "data": {
            "text/plain": [
              "<Figure size 1500x500 with 1 Axes>"
            ],
            "image/png": "[encoded data removed]"
          },
          "metadata": {}
        }
      ]
    },
    {
      "cell_type": "markdown",
      "source": [
        "The observed near-perfect overlap between actual and predicted values in the time series plot demonstrates exceptional model performance:\n",
        "\n",
        "1. **Pattern Matching**\n",
        "   - Almost identical tracking of temporal patterns\n",
        "   - Successful capture of daily and weekly demand cycles\n",
        "   - Accurate prediction of seasonal trends\n",
        "   - Strong alignment during both peak and off-peak periods\n",
        "\n",
        "2. **Error Characteristics**\n",
        "   - Minimal visible deviation between actual and predicted values\n",
        "   - Consistent performance across the entire time series\n",
        "   - No significant systematic over or under-prediction\n",
        "   - Stable error margins throughout different time periods\n",
        "\n",
        "3. **Model Reliability Indicators**\n",
        "   - Strong handling of various demand levels\n",
        "   - Accurate prediction of demand fluctuations\n",
        "   - Robust performance across different time scales\n",
        "   - Reliable forecasting during both normal and extreme conditions"
      ],
      "metadata": {
        "id": "E_yYBZ-NFude"
      }
    },
    {
      "cell_type": "code",
      "source": [
        "def get_feature_importance(model, feature_cols):\n",
        "    \"\"\"Get feature importance for the specified model\"\"\"\n",
        "    importance = pd.DataFrame({\n",
        "        'feature': feature_cols,\n",
        "        'importance': model.feature_importances_\n",
        "    })\n",
        "\n",
        "    return importance.sort_values('importance', ascending=False)"
      ],
      "metadata": {
        "id": "iPqrzJa4WYli"
      },
      "execution_count": null,
      "outputs": []
    },
    {
      "cell_type": "code",
      "source": [
        "feature_cols = X_train.columns  # feature names from our training data\n",
        "model = trained_models['lgbm']  # Replacing with the model we want to analyze\n",
        "feature_importance = get_feature_importance(model, feature_cols)\n",
        "print(feature_importance)"
      ],
      "metadata": {
        "colab": {
          "base_uri": "https://localhost:8080/"
        },
        "id": "k_hyEaBRXnkS",
        "outputId": "72c39c6d-ce72-46fe-d1f4-1430f54db3c2"
      },
      "execution_count": null,
      "outputs": [
        {
          "output_type": "stream",
          "name": "stdout",
          "text": [
            "                feature  importance\n",
            "3                  hour         912\n",
            "7         demand_lag_1h         401\n",
            "29        mean_humidity         204\n",
            "8         demand_lag_2h         150\n",
            "4             dayofweek         130\n",
            "30         max_humidity         106\n",
            "19        demand_lag_7d          96\n",
            "13        demand_lag_1d          82\n",
            "9         demand_lag_3h          77\n",
            "23         demand_ma_7d          73\n",
            "12        demand_lag_6h          69\n",
            "22        demand_ma_24h          68\n",
            "10        demand_lag_4h          65\n",
            "1                 month          58\n",
            "35   mean_precipitation          54\n",
            "36    max_precipitation          51\n",
            "37    min_precipitation          47\n",
            "2                   day          45\n",
            "31         min_humidity          45\n",
            "11        demand_lag_5h          43\n",
            "18        demand_lag_6d          32\n",
            "21        demand_lag_2w          31\n",
            "6             isholiday          31\n",
            "16        demand_lag_4d          23\n",
            "15        demand_lag_3d          23\n",
            "17        demand_lag_5d          22\n",
            "26     mean_temperature          20\n",
            "14        demand_lag_2d          18\n",
            "27      max_temperature           9\n",
            "28      min_temperature           9\n",
            "0                  year           5\n",
            "32      mean_wind_speed           1\n",
            "25  demand_same_hour_1w           0\n",
            "24  demand_same_hour_1d           0\n",
            "33       max_wind_speed           0\n",
            "34       min_wind_speed           0\n",
            "5             isweekend           0\n",
            "20        demand_lag_1w           0\n"
          ]
        }
      ]
    },
    {
      "cell_type": "code",
      "source": [
        "feature_cols = X_train.columns  # feature names from our training data\n",
        "model = trained_models['gbm']  # Replacing with the model we want to analyze\n",
        "feature_importance = get_feature_importance(model, feature_cols)\n",
        "print(feature_importance)"
      ],
      "metadata": {
        "colab": {
          "base_uri": "https://localhost:8080/"
        },
        "id": "IBPEKDjeXz2w",
        "outputId": "8cd6bffa-155b-4407-eba4-77e3cd2af76c"
      },
      "execution_count": null,
      "outputs": [
        {
          "output_type": "stream",
          "name": "stdout",
          "text": [
            "                feature  importance\n",
            "7         demand_lag_1h    0.915760\n",
            "3                  hour    0.023594\n",
            "24  demand_same_hour_1d    0.014930\n",
            "20        demand_lag_1w    0.014682\n",
            "9         demand_lag_3h    0.005354\n",
            "13        demand_lag_1d    0.005077\n",
            "29        mean_humidity    0.004375\n",
            "25  demand_same_hour_1w    0.003795\n",
            "19        demand_lag_7d    0.003544\n",
            "18        demand_lag_6d    0.001658\n",
            "30         max_humidity    0.001008\n",
            "4             dayofweek    0.000975\n",
            "5             isweekend    0.000823\n",
            "12        demand_lag_6h    0.000759\n",
            "21        demand_lag_2w    0.000744\n",
            "22        demand_ma_24h    0.000728\n",
            "8         demand_lag_2h    0.000708\n",
            "31         min_humidity    0.000334\n",
            "6             isholiday    0.000281\n",
            "35   mean_precipitation    0.000227\n",
            "11        demand_lag_5h    0.000199\n",
            "10        demand_lag_4h    0.000144\n",
            "1                 month    0.000057\n",
            "2                   day    0.000056\n",
            "23         demand_ma_7d    0.000050\n",
            "37    min_precipitation    0.000039\n",
            "15        demand_lag_3d    0.000029\n",
            "32      mean_wind_speed    0.000028\n",
            "14        demand_lag_2d    0.000018\n",
            "36    max_precipitation    0.000015\n",
            "16        demand_lag_4d    0.000003\n",
            "27      max_temperature    0.000002\n",
            "26     mean_temperature    0.000000\n",
            "28      min_temperature    0.000000\n",
            "17        demand_lag_5d    0.000000\n",
            "33       max_wind_speed    0.000000\n",
            "34       min_wind_speed    0.000000\n",
            "0                  year    0.000000\n"
          ]
        }
      ]
    },
    {
      "cell_type": "code",
      "source": [
        "feature_cols = X_train.columns  # feature names from training data\n",
        "model = trained_models['rf']  # Replacing with the model we want to analyze\n",
        "feature_importance = get_feature_importance(model, feature_cols)\n",
        "print(feature_importance)"
      ],
      "metadata": {
        "colab": {
          "base_uri": "https://localhost:8080/"
        },
        "id": "ti8prozBaGMh",
        "outputId": "08298985-2580-4965-bade-629e77b67e31"
      },
      "execution_count": null,
      "outputs": [
        {
          "output_type": "stream",
          "name": "stdout",
          "text": [
            "                feature  importance\n",
            "7         demand_lag_1h    0.941692\n",
            "3                  hour    0.017698\n",
            "8         demand_lag_2h    0.010139\n",
            "9         demand_lag_3h    0.006304\n",
            "29        mean_humidity    0.003705\n",
            "24  demand_same_hour_1d    0.002468\n",
            "13        demand_lag_1d    0.002359\n",
            "11        demand_lag_5h    0.001825\n",
            "10        demand_lag_4h    0.001800\n",
            "12        demand_lag_6h    0.001464\n",
            "22        demand_ma_24h    0.001226\n",
            "20        demand_lag_1w    0.000918\n",
            "30         max_humidity    0.000856\n",
            "25  demand_same_hour_1w    0.000793\n",
            "19        demand_lag_7d    0.000631\n",
            "31         min_humidity    0.000626\n",
            "4             dayofweek    0.000502\n",
            "36    max_precipitation    0.000461\n",
            "35   mean_precipitation    0.000445\n",
            "37    min_precipitation    0.000410\n",
            "14        demand_lag_2d    0.000396\n",
            "18        demand_lag_6d    0.000380\n",
            "23         demand_ma_7d    0.000376\n",
            "15        demand_lag_3d    0.000328\n",
            "21        demand_lag_2w    0.000302\n",
            "5             isweekend    0.000287\n",
            "16        demand_lag_4d    0.000282\n",
            "17        demand_lag_5d    0.000260\n",
            "26     mean_temperature    0.000250\n",
            "27      max_temperature    0.000190\n",
            "28      min_temperature    0.000189\n",
            "2                   day    0.000187\n",
            "1                 month    0.000178\n",
            "0                  year    0.000032\n",
            "33       max_wind_speed    0.000015\n",
            "6             isholiday    0.000013\n",
            "32      mean_wind_speed    0.000013\n",
            "34       min_wind_speed    0.000000\n"
          ]
        }
      ]
    },
    {
      "cell_type": "code",
      "source": [
        "# Print feature importance\n",
        "print(\"\\nTop 10 Most Important Features:\")\n",
        "print(feature_importance.head(10))"
      ],
      "metadata": {
        "colab": {
          "base_uri": "https://localhost:8080/"
        },
        "id": "DUKQgqzOaJE0",
        "outputId": "dffd3a4f-76a1-4203-b581-343cec40d7ee"
      },
      "execution_count": null,
      "outputs": [
        {
          "output_type": "stream",
          "name": "stdout",
          "text": [
            "\n",
            "Top 10 Most Important Features:\n",
            "                feature  importance\n",
            "7         demand_lag_1h    0.941692\n",
            "3                  hour    0.017698\n",
            "8         demand_lag_2h    0.010139\n",
            "9         demand_lag_3h    0.006304\n",
            "29        mean_humidity    0.003705\n",
            "24  demand_same_hour_1d    0.002468\n",
            "13        demand_lag_1d    0.002359\n",
            "11        demand_lag_5h    0.001825\n",
            "10        demand_lag_4h    0.001800\n",
            "12        demand_lag_6h    0.001464\n"
          ]
        }
      ]
    },
    {
      "cell_type": "markdown",
      "source": [
        "**Feature Importance Analysis**\n",
        "\n",
        "After training the model, the top 10 features influencing predictions were identified.\n",
        "\n",
        "- demand_lag_1h (0.9417) – Most crucial, showing strong short-term dependency.\n",
        "- hour (0.0177) – Captures hourly demand variations.\n",
        "- demand_lag_2h to demand_lag_6h – Past demand impacts predictions but with decreasing importance.\n",
        "- mean_humidity (0.0037) – Weather factor influencing demand.\n",
        "- demand_same_hour_1d & demand_lag_1d – Helps capture daily patterns.\n",
        "\n",
        "The high importance of lag features highlights temporal dependencies in demand forecasting."
      ],
      "metadata": {
        "id": "0VbRt0AVHP98"
      }
    },
    {
      "cell_type": "markdown",
      "source": [
        "----------------------------------"
      ],
      "metadata": {
        "id": "m_NuOlpaIciF"
      }
    },
    {
      "cell_type": "markdown",
      "source": [
        "Now Lets Implement another model named XGBoost"
      ],
      "metadata": {
        "id": "wxmpHzFyIEyQ"
      }
    },
    {
      "cell_type": "markdown",
      "source": [
        "We are adding the **XGBoost** (Extreme Gradient Boosting) model because:\n",
        "\n",
        "1. **Better Performance** – XGBoost is optimized for speed and accuracy, often outperforming traditional models like Random Forest and Gradient Boosting.\n",
        "2. **Handling Large Datasets** – It efficiently handles large datasets with high-dimensional features.\n",
        "3. **Regularization** – Unlike traditional boosting models, XGBoost includes L1 and L2 regularization, reducing overfitting.\n",
        "4. **Parallel Processing** – It leverages parallelization for faster training.\n",
        "5. **Robustness** – XGBoost can handle missing values and imbalanced data effectively.\n",
        "\n",
        "By adding XGBoost, we aim to improve predictive accuracy and optimize model performance for demand forecasting."
      ],
      "metadata": {
        "id": "SCs7nlnvIkI0"
      }
    },
    {
      "cell_type": "code",
      "source": [
        "def train_models(X_train, y_train):\n",
        "    models = {\n",
        "        'xgb': XGBRegressor(n_estimators=100, random_state=42)\n",
        "    }\n",
        "\n",
        "    for name, model in models.items():\n",
        "        print(f\"\\nTraining {name}...\")\n",
        "        model.fit(X_train, y_train)\n",
        "        print(f\"{name} trained.\")\n",
        "\n",
        "    return models"
      ],
      "metadata": {
        "id": "l-mnBpvWIDi1"
      },
      "execution_count": null,
      "outputs": []
    },
    {
      "cell_type": "code",
      "source": [
        "# Train the models and store them\n",
        "trained_models = train_models(X_train_scaled, y_train)"
      ],
      "metadata": {
        "id": "KZLn3sFTaZjQ",
        "colab": {
          "base_uri": "https://localhost:8080/"
        },
        "outputId": "d6ae5be0-3436-4d98-9d90-ac621415b140"
      },
      "execution_count": null,
      "outputs": [
        {
          "output_type": "stream",
          "name": "stdout",
          "text": [
            "\n",
            "Training xgb...\n",
            "xgb trained.\n"
          ]
        }
      ]
    },
    {
      "cell_type": "code",
      "source": [
        "def evaluate_xgboost(model, X_test, y_test):\n",
        "    \"\"\"Evaluate the XGBoost model using multiple metrics\"\"\"\n",
        "    predictions = model.predict(X_test)\n",
        "\n",
        "    # Calculate metrics\n",
        "    rmse = np.sqrt(mean_squared_error(y_test, predictions))\n",
        "    mae = mean_absolute_error(y_test, predictions)\n",
        "    mape = np.mean(np.abs((y_test - predictions) / y_test)) * 100\n",
        "\n",
        "    results = {\n",
        "        'RMSE': rmse,\n",
        "        'MAE': mae,\n",
        "        'MAPE': mape\n",
        "    }\n",
        "\n",
        "    print(\"\\nXGBOOST Results:\")\n",
        "    print(f\"RMSE: {rmse:.2f}\")\n",
        "    print(f\"MAE: {mae:.2f}\")\n",
        "    print(f\"MAPE: {mape:.2f}%\")\n",
        "\n",
        "    return results"
      ],
      "metadata": {
        "id": "F07b9qoOJgm_"
      },
      "execution_count": null,
      "outputs": []
    },
    {
      "cell_type": "code",
      "source": [
        "# Evaluate the trained XGBoost model\n",
        "xgb_results = evaluate_xgboost(trained_models['xgb'], X_test_scaled, y_test)"
      ],
      "metadata": {
        "colab": {
          "base_uri": "https://localhost:8080/"
        },
        "id": "zbvZQ4OwKMnY",
        "outputId": "0eb3ea2f-258f-4c21-f075-8c87bb722b3b"
      },
      "execution_count": null,
      "outputs": [
        {
          "output_type": "stream",
          "name": "stdout",
          "text": [
            "\n",
            "XGBOOST Results:\n",
            "RMSE: 22.97\n",
            "MAE: 16.99\n",
            "MAPE: 1.07%\n"
          ]
        }
      ]
    },
    {
      "cell_type": "markdown",
      "source": [
        "The XGBoost model performed well in predicting demand:\n",
        "\n",
        "- **RMSE: 22.97** – Indicates the average error magnitude in predictions.\n",
        "- **MAE: 16.99** – Shows the average absolute difference between actual and predicted values.\n",
        "- **MAPE: 1.07%** – Suggests a very low percentage error, meaning the model is highly accurate.\n",
        "\n",
        "These results highlight XGBoost’s effectiveness in minimizing errors and capturing demand patterns efficiently"
      ],
      "metadata": {
        "id": "OL0Dc7K-Kbs6"
      }
    },
    {
      "cell_type": "markdown",
      "source": [
        "**Model Comparison**\n",
        "\n",
        "Comparing the models based on RMSE, MAE, and MAPE:\n",
        "\n",
        "- **XGBoost (RMSE: 22.97, MAE: 16.99, MAPE: 1.07%)** performs better than **RF (25.86, 18.48, 1.15%)** and **GBM (33.33, 25.02, 1.59%)**, showing lower errors.\n",
        "- **LGBM (22.17, 16.39, 1.03%)** slightly outperforms XGBoost, achieving the lowest error rates.\n",
        "- **XGBoost vs. LGBM** – Both perform similarly, but LGBM has a slight edge in accuracy.\n",
        "Overall, **LGBM** and **XGBoost** are the best models, while **GBM** performs the worst."
      ],
      "metadata": {
        "id": "trMjIV-GLBRK"
      }
    },
    {
      "cell_type": "markdown",
      "source": [
        "**Expected Benefits of Model Deployment**\n",
        "\n",
        "Deploying the trained model can bring several advantages, including:\n",
        "\n",
        "- **Accurate Demand Forecasting** – Helps predict future demand trends, enabling better planning and resource allocation.\n",
        "- **Operational Efficiency** – Reduces inefficiencies by optimizing inventory, scheduling, and energy usage.\n",
        "- **Cost Savings** – Minimizes wastage and unnecessary expenditures by improving demand predictions.\n",
        "- **Real-time Decision Making** – Provides instant insights for quick adjustments in operations.\n",
        "- **Scalability** – Can handle large datasets efficiently, making it adaptable for business growth.\n",
        "\n",
        "Overall, deploying the model enhances productivity, reduces costs, and improves strategic decision-making."
      ],
      "metadata": {
        "id": "j-SzNnwWLgrJ"
      }
    },
    {
      "cell_type": "markdown",
      "source": [
        "## **Conclusion**"
      ],
      "metadata": {
        "id": "ybiPFtYMMXhf"
      }
    },
    {
      "cell_type": "markdown",
      "source": [
        "This assignment successfully demonstrated the development, evaluation, and comparison of multiple machine learning models for demand forecasting. Through rigorous analysis, **LGBM** and **XGBoost** emerged as the **top-performing models**, offering high accuracy and efficiency. The deployment of such models can significantly enhance decision-making and operational efficiency."
      ],
      "metadata": {
        "id": "Xf1mL0pkMeAm"
      }
    },
    {
      "cell_type": "markdown",
      "source": [
        "I appreciate the opportunity to work on this task and look forward to further discussions.😊"
      ],
      "metadata": {
        "id": "jRrIt0ZpMuhe"
      }
    }
  ]
}